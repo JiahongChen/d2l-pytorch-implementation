{
  "nbformat": 4,
  "nbformat_minor": 0,
  "metadata": {
    "colab": {
      "name": "L4/4 Linear Regression in PyTorch",
      "provenance": []
    },
    "kernelspec": {
      "name": "python3",
      "display_name": "Python 3"
    }
  },
  "cells": [
    {
      "cell_type": "markdown",
      "metadata": {
        "id": "Fe1G9qlrJX_t",
        "colab_type": "text"
      },
      "source": [
        "# **Concise Implementation of Linear Regression**\n",
        "**Generating Data Sets**"
      ]
    },
    {
      "cell_type": "code",
      "metadata": {
        "id": "a6hEld6gJLDn",
        "colab_type": "code",
        "colab": {}
      },
      "source": [
        "import torch\n",
        "import numpy as np\n",
        "true_w = torch.Tensor([2, -3.4])\n",
        "true_b = 4.2\n",
        "num_examples = 1000\n",
        "num_inputs = 2\n",
        "features = np.random.normal(scale=1, size=(num_examples, num_inputs))\n",
        "labels = np.dot(features, true_w) + true_b\n",
        "labels += np.random.normal(scale=0.01, size=labels.shape)\n",
        "features=torch.from_numpy(features).float()\n",
        "labels=torch.from_numpy(labels).float().reshape(-1,1)"
      ],
      "execution_count": 1,
      "outputs": []
    },
    {
      "cell_type": "markdown",
      "metadata": {
        "id": "CEDJTk31JpEW",
        "colab_type": "text"
      },
      "source": [
        "**Reading Data**"
      ]
    },
    {
      "cell_type": "code",
      "metadata": {
        "id": "1AB8Sa-3JXD0",
        "colab_type": "code",
        "colab": {}
      },
      "source": [
        "from torch.utils.data import TensorDataset, DataLoader\n",
        "batch_size =10\n",
        "# Combine the features and labels of the training data\n",
        "dataset=TensorDataset(*(features,labels))\n",
        "# Randomly reading mini-batches\n",
        "data_iter = DataLoader(dataset=dataset,batch_size=batch_size,shuffle=True)"
      ],
      "execution_count": 2,
      "outputs": []
    },
    {
      "cell_type": "markdown",
      "metadata": {
        "id": "_JXrTAQZKOKL",
        "colab_type": "text"
      },
      "source": [
        "**Reading a Data Batch**"
      ]
    },
    {
      "cell_type": "code",
      "metadata": {
        "id": "_TEU-avZKVY7",
        "colab_type": "code",
        "colab": {
          "base_uri": "https://localhost:8080/",
          "height": 340
        },
        "outputId": "b9e23fd4-41a0-46c9-ee0d-3eff9d6ab09d"
      },
      "source": [
        "for X, y in data_iter:\n",
        "    print(X, y)\n",
        "    break"
      ],
      "execution_count": 3,
      "outputs": [
        {
          "output_type": "stream",
          "text": [
            "tensor([[-0.1553, -0.6083],\n",
            "        [-0.7960,  0.8890],\n",
            "        [ 0.1062, -0.7988],\n",
            "        [ 1.1063, -0.3736],\n",
            "        [ 0.4112,  0.0672],\n",
            "        [-0.7777,  1.2151],\n",
            "        [ 0.4782, -1.1252],\n",
            "        [-0.3915,  0.4872],\n",
            "        [-1.1956,  0.2960],\n",
            "        [ 0.3205, -0.5406]]) tensor([[ 5.9543],\n",
            "        [-0.4040],\n",
            "        [ 7.1314],\n",
            "        [ 7.6807],\n",
            "        [ 4.7962],\n",
            "        [-1.4705],\n",
            "        [ 8.9745],\n",
            "        [ 1.7609],\n",
            "        [ 0.8116],\n",
            "        [ 6.6705]])\n"
          ],
          "name": "stdout"
        }
      ]
    },
    {
      "cell_type": "markdown",
      "metadata": {
        "id": "b_RZ8fUzKccQ",
        "colab_type": "text"
      },
      "source": [
        "**Define the Model**"
      ]
    },
    {
      "cell_type": "code",
      "metadata": {
        "id": "0fES0XHfKfot",
        "colab_type": "code",
        "colab": {}
      },
      "source": [
        "import torch.nn as nn\n",
        "net = nn.Sequential(nn.Linear(2, 1))"
      ],
      "execution_count": 4,
      "outputs": []
    },
    {
      "cell_type": "markdown",
      "metadata": {
        "id": "8HP9ZoEmK0ME",
        "colab_type": "text"
      },
      "source": [
        "**Initialize Model Parameters**\n",
        "*   Initialize weight parameter by a normal distribution with a mean of 0 and standard\n",
        "deviation of 0.01.\n",
        "*   The bias parameter is initialized to zero by default."
      ]
    },
    {
      "cell_type": "code",
      "metadata": {
        "id": "zW0Ck1a6LGyf",
        "colab_type": "code",
        "colab": {
          "base_uri": "https://localhost:8080/",
          "height": 68
        },
        "outputId": "45cfd151-64e8-4b14-de00-b92a71d1c1ee"
      },
      "source": [
        "def init_weights(m):\n",
        "    if type(m) == nn.Linear:\n",
        "        # Initialize weight parameter by a normal distribition \n",
        "        # with a mean of 0 and standard deviation of 0.01.\n",
        "        nn.init.normal_(m.weight.data, std=0.01)\n",
        "        # The bias parameter is initialized to zero by default.\n",
        "        m.bias.data.fill_(0.0)\n",
        "\n",
        "net.apply(init_weights)"
      ],
      "execution_count": 5,
      "outputs": [
        {
          "output_type": "execute_result",
          "data": {
            "text/plain": [
              "Sequential(\n",
              "  (0): Linear(in_features=2, out_features=1, bias=True)\n",
              ")"
            ]
          },
          "metadata": {
            "tags": []
          },
          "execution_count": 5
        }
      ]
    },
    {
      "cell_type": "markdown",
      "metadata": {
        "id": "n4MpWQ7YM1WX",
        "colab_type": "text"
      },
      "source": [
        "**Define the Loss Function**"
      ]
    },
    {
      "cell_type": "code",
      "metadata": {
        "id": "KQ7mG8K8M2jK",
        "colab_type": "code",
        "colab": {}
      },
      "source": [
        "loss = torch.nn.MSELoss(reduction='mean')"
      ],
      "execution_count": 6,
      "outputs": []
    },
    {
      "cell_type": "markdown",
      "metadata": {
        "id": "j4kfzfheM6ic",
        "colab_type": "text"
      },
      "source": [
        "**Define the Optimization Algorithm**"
      ]
    },
    {
      "cell_type": "code",
      "metadata": {
        "id": "dT1pfij-M88_",
        "colab_type": "code",
        "colab": {}
      },
      "source": [
        "import torch.optim as optim\n",
        "\n",
        "trainer = optim.SGD(net.parameters(), lr = 0.03)"
      ],
      "execution_count": 7,
      "outputs": []
    },
    {
      "cell_type": "markdown",
      "metadata": {
        "id": "0sMeE2ihNGMP",
        "colab_type": "text"
      },
      "source": [
        "**Training**"
      ]
    },
    {
      "cell_type": "code",
      "metadata": {
        "id": "K3n5ZUJPNF8b",
        "colab_type": "code",
        "colab": {
          "base_uri": "https://localhost:8080/",
          "height": 68
        },
        "outputId": "29f89dee-cd9c-4aa4-d604-5e44102c93e0"
      },
      "source": [
        "num_epochs = 3\n",
        "for epoch in range(1, num_epochs + 1):\n",
        "    for X, y in data_iter:\n",
        "        l = loss(net(X), y)\n",
        "        trainer.zero_grad()\n",
        "        l.backward()\n",
        "        trainer.step()\n",
        "    with torch.no_grad():\n",
        "        l = loss(net(features), labels)\n",
        "        print('epoch %d, loss: %f' % (epoch, l.mean().item()))"
      ],
      "execution_count": 8,
      "outputs": [
        {
          "output_type": "stream",
          "text": [
            "epoch 1, loss: 0.000208\n",
            "epoch 2, loss: 0.000100\n",
            "epoch 3, loss: 0.000100\n"
          ],
          "name": "stdout"
        }
      ]
    }
  ]
}