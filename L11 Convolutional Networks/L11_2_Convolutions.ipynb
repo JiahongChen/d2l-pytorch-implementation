{
  "nbformat": 4,
  "nbformat_minor": 0,
  "metadata": {
    "celltoolbar": "Slideshow",
    "kernelspec": {
      "display_name": "Python 3",
      "language": "python",
      "name": "python3"
    },
    "language_info": {
      "codemirror_mode": {
        "name": "ipython",
        "version": 3
      },
      "file_extension": ".py",
      "mimetype": "text/x-python",
      "name": "python",
      "nbconvert_exporter": "python",
      "pygments_lexer": "ipython3",
      "version": "3.7.1"
    },
    "colab": {
      "name": "L11/2 Convolutions",
      "provenance": []
    }
  },
  "cells": [
    {
      "cell_type": "markdown",
      "metadata": {
        "id": "WSPVZA2wzB1g"
      },
      "source": [
        "# **Convolution Layers**"
      ]
    },
    {
      "cell_type": "code",
      "metadata": {
        "id": "Hm-oymJfyaP6"
      },
      "source": [
        "import torch\n",
        "import torch.nn as nn"
      ],
      "execution_count": 1,
      "outputs": []
    },
    {
      "cell_type": "markdown",
      "metadata": {
        "id": "JG0VfmgkzDSE"
      },
      "source": [
        "# **The Cross Correlation Operator**"
      ]
    },
    {
      "cell_type": "code",
      "metadata": {
        "id": "eSCPTd5wycHu"
      },
      "source": [
        "def corr2d(X, K):\n",
        "    h, w = K.shape\n",
        "    Y = torch.zeros((X.shape[0] - h + 1, X.shape[1] - w + 1))\n",
        "    for i in range(Y.shape[0]):\n",
        "        for j in range(Y.shape[1]):\n",
        "            Y[i, j] = (X[i: i + h, j: j + w] * K).sum()\n",
        "    return Y"
      ],
      "execution_count": 2,
      "outputs": []
    },
    {
      "cell_type": "markdown",
      "metadata": {
        "id": "SCknj5eOzNDA"
      },
      "source": [
        "## **Sanity Test**"
      ]
    },
    {
      "cell_type": "code",
      "metadata": {
        "id": "I4Rl2NH6zOV4",
        "outputId": "33672058-ff63-4870-9994-77394688ca9e",
        "colab": {
          "base_uri": "https://localhost:8080/",
          "height": 51
        }
      },
      "source": [
        "X = torch.tensor([[0, 1, 2], [3, 4, 5], [6, 7, 8]])\n",
        "K = torch.tensor([[0, 1], [2, 3]])\n",
        "corr2d(X, K)"
      ],
      "execution_count": 3,
      "outputs": [
        {
          "output_type": "execute_result",
          "data": {
            "text/plain": [
              "tensor([[19., 25.],\n",
              "        [37., 43.]])"
            ]
          },
          "metadata": {
            "tags": []
          },
          "execution_count": 3
        }
      ]
    },
    {
      "cell_type": "markdown",
      "metadata": {
        "id": "x4h--OipzXgi"
      },
      "source": [
        "## **Covolutional Layers**"
      ]
    },
    {
      "cell_type": "code",
      "metadata": {
        "id": "womrShopzW3k"
      },
      "source": [
        "class Conv2D(nn.Module):\n",
        "    def __init__(self, kernel_size):\n",
        "        super(Conv2D, self).__init__()\n",
        "        self.weight = torch.rand(kernel_size, requires_grad=True).float()\n",
        "        self.bias = torch.zeros((1,), requires_grad=True).float()\n",
        "    def forward(self, x):\n",
        "        return corr2d(x, self.weight) + self.bias"
      ],
      "execution_count": 4,
      "outputs": []
    },
    {
      "cell_type": "markdown",
      "metadata": {
        "id": "f5KOPxbHz3Lg"
      },
      "source": [
        "# **Object Edge Detection in Images**"
      ]
    },
    {
      "cell_type": "code",
      "metadata": {
        "id": "ba1t_Kucz2RQ",
        "outputId": "e36d49ae-a3ce-4831-bb2c-f0886b6df292",
        "colab": {
          "base_uri": "https://localhost:8080/",
          "height": 119
        }
      },
      "source": [
        "X = torch.ones((6, 8))\n",
        "X[:, 2:6] = 0\n",
        "X"
      ],
      "execution_count": 5,
      "outputs": [
        {
          "output_type": "execute_result",
          "data": {
            "text/plain": [
              "tensor([[1., 1., 0., 0., 0., 0., 1., 1.],\n",
              "        [1., 1., 0., 0., 0., 0., 1., 1.],\n",
              "        [1., 1., 0., 0., 0., 0., 1., 1.],\n",
              "        [1., 1., 0., 0., 0., 0., 1., 1.],\n",
              "        [1., 1., 0., 0., 0., 0., 1., 1.],\n",
              "        [1., 1., 0., 0., 0., 0., 1., 1.]])"
            ]
          },
          "metadata": {
            "tags": []
          },
          "execution_count": 5
        }
      ]
    },
    {
      "cell_type": "markdown",
      "metadata": {
        "id": "jsN9J2Faz8Lo"
      },
      "source": [
        "# **Detect Vertical Edges**"
      ]
    },
    {
      "cell_type": "code",
      "metadata": {
        "id": "9wCc_nBMz9g6",
        "outputId": "ea65268b-ff9a-4573-ffc8-ee25131731c1",
        "colab": {
          "base_uri": "https://localhost:8080/",
          "height": 204
        }
      },
      "source": [
        "K = torch.tensor([[1, -1]])\n",
        "Y = corr2d(X, K)\n",
        "print(X, Y)"
      ],
      "execution_count": 6,
      "outputs": [
        {
          "output_type": "stream",
          "text": [
            "tensor([[1., 1., 0., 0., 0., 0., 1., 1.],\n",
            "        [1., 1., 0., 0., 0., 0., 1., 1.],\n",
            "        [1., 1., 0., 0., 0., 0., 1., 1.],\n",
            "        [1., 1., 0., 0., 0., 0., 1., 1.],\n",
            "        [1., 1., 0., 0., 0., 0., 1., 1.],\n",
            "        [1., 1., 0., 0., 0., 0., 1., 1.]]) tensor([[ 0.,  1.,  0.,  0.,  0., -1.,  0.],\n",
            "        [ 0.,  1.,  0.,  0.,  0., -1.,  0.],\n",
            "        [ 0.,  1.,  0.,  0.,  0., -1.,  0.],\n",
            "        [ 0.,  1.,  0.,  0.,  0., -1.,  0.],\n",
            "        [ 0.,  1.,  0.,  0.,  0., -1.,  0.],\n",
            "        [ 0.,  1.,  0.,  0.,  0., -1.,  0.]])\n"
          ],
          "name": "stdout"
        }
      ]
    },
    {
      "cell_type": "markdown",
      "metadata": {
        "id": "F0i2ZHeQ0eXE"
      },
      "source": [
        "# **Can't Detect Horizon Edges**"
      ]
    },
    {
      "cell_type": "code",
      "metadata": {
        "id": "06XFe1980f1U",
        "outputId": "81e12c14-c92d-4886-fe77-93fc6ae4041c",
        "colab": {
          "base_uri": "https://localhost:8080/",
          "height": 272
        }
      },
      "source": [
        "Z = corr2d(X.T, K)\n",
        "print(X.T, Z)"
      ],
      "execution_count": 7,
      "outputs": [
        {
          "output_type": "stream",
          "text": [
            "tensor([[1., 1., 1., 1., 1., 1.],\n",
            "        [1., 1., 1., 1., 1., 1.],\n",
            "        [0., 0., 0., 0., 0., 0.],\n",
            "        [0., 0., 0., 0., 0., 0.],\n",
            "        [0., 0., 0., 0., 0., 0.],\n",
            "        [0., 0., 0., 0., 0., 0.],\n",
            "        [1., 1., 1., 1., 1., 1.],\n",
            "        [1., 1., 1., 1., 1., 1.]]) tensor([[0., 0., 0., 0., 0.],\n",
            "        [0., 0., 0., 0., 0.],\n",
            "        [0., 0., 0., 0., 0.],\n",
            "        [0., 0., 0., 0., 0.],\n",
            "        [0., 0., 0., 0., 0.],\n",
            "        [0., 0., 0., 0., 0.],\n",
            "        [0., 0., 0., 0., 0.],\n",
            "        [0., 0., 0., 0., 0.]])\n"
          ],
          "name": "stdout"
        }
      ]
    },
    {
      "cell_type": "markdown",
      "metadata": {
        "id": "k0Ke0ALl0nsk"
      },
      "source": [
        "# **Learning a Kernel**"
      ]
    },
    {
      "cell_type": "code",
      "metadata": {
        "id": "JVyJe9X00qQa",
        "outputId": "b18991c3-f142-4280-9015-ba89338c2481",
        "colab": {
          "base_uri": "https://localhost:8080/",
          "height": 102
        }
      },
      "source": [
        "conv2d = nn.Conv2d(1, 1, kernel_size=(1, 2))\n",
        "def weights_init(m):\n",
        "    classname = m.__class__.__name__\n",
        "    if classname.find('Conv') != -1:\n",
        "        torch.nn.init.xavier_uniform_(m.weight)\n",
        "        m.bias.data.normal_(0.0, 0.01)\n",
        "\n",
        "conv2d.apply(weights_init)\n",
        "\n",
        "X = X.reshape((1, 1, 6, 8))\n",
        "Y = Y.reshape((1, 1, 6, 7))\n",
        "for i in range(10):\n",
        "    Y_hat = conv2d(X)\n",
        "    l = ((Y_hat - Y) ** 2).sum()\n",
        "    conv2d.zero_grad()\n",
        "    l.backward()\n",
        "    conv2d.weight.data[:] -= 3e-2 * conv2d.weight.grad\n",
        "    if (i + 1) % 2 == 0:\n",
        "        print('batch %d, loss %.3f' % (i + 1, l.sum().item()))"
      ],
      "execution_count": 8,
      "outputs": [
        {
          "output_type": "stream",
          "text": [
            "batch 2, loss 30.237\n",
            "batch 4, loss 11.285\n",
            "batch 6, loss 4.438\n",
            "batch 8, loss 1.787\n",
            "batch 10, loss 0.727\n"
          ],
          "name": "stdout"
        }
      ]
    }
  ]
}
