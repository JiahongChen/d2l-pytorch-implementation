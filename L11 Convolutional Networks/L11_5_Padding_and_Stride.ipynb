{
  "nbformat": 4,
  "nbformat_minor": 0,
  "metadata": {
    "colab": {
      "name": "L11/5 Padding and Stride",
      "provenance": []
    },
    "kernelspec": {
      "name": "python3",
      "display_name": "Python 3"
    }
  },
  "cells": [
    {
      "cell_type": "markdown",
      "metadata": {
        "id": "DtL9-HYd33kZ"
      },
      "source": [
        "# **Padding and Stride**"
      ]
    },
    {
      "cell_type": "code",
      "metadata": {
        "id": "wmBSs5023wIx"
      },
      "source": [
        "import torch\n",
        "import torch.nn as nn\n",
        "# Takes convolution operation and applies it to X\n",
        "def comp_conv2d(conv2d, X):\n",
        "    # Add two extra empty dimensions to X\n",
        "    X = X.reshape((1, 1) + X.shape)\n",
        "    Y = conv2d(X)\n",
        "    return Y.reshape(Y.shape[2:])"
      ],
      "execution_count": 1,
      "outputs": []
    },
    {
      "cell_type": "markdown",
      "metadata": {
        "id": "HU0EfPZ74Dsp"
      },
      "source": [
        "## **Padding**"
      ]
    },
    {
      "cell_type": "code",
      "metadata": {
        "id": "vHN5b0wP4HU_",
        "outputId": "0b273876-a955-4540-bc88-02011196c5a0",
        "colab": {
          "base_uri": "https://localhost:8080/",
          "height": 34
        }
      },
      "source": [
        "conv2d = nn.Conv2d(1, 1, kernel_size=3, padding=1)\n",
        "X = torch.randn(size=(8, 8))\n",
        "# Padding of 1 leaves shape unchanged for 3x3 convolution\n",
        "comp_conv2d(conv2d, X).shape"
      ],
      "execution_count": 2,
      "outputs": [
        {
          "output_type": "execute_result",
          "data": {
            "text/plain": [
              "torch.Size([8, 8])"
            ]
          },
          "metadata": {
            "tags": []
          },
          "execution_count": 2
        }
      ]
    },
    {
      "cell_type": "markdown",
      "metadata": {
        "id": "_qg3wvIp4WAY"
      },
      "source": [
        "## **Stride**"
      ]
    },
    {
      "cell_type": "code",
      "metadata": {
        "id": "K4KvgjcM4YE9",
        "outputId": "6b9ec385-e0f5-4dbd-9413-d4cba3ca4948",
        "colab": {
          "base_uri": "https://localhost:8080/",
          "height": 34
        }
      },
      "source": [
        "conv2d = nn.Conv2d(1, 1, kernel_size=3, padding=1, stride=2)\n",
        "comp_conv2d(conv2d, X).shape"
      ],
      "execution_count": 3,
      "outputs": [
        {
          "output_type": "execute_result",
          "data": {
            "text/plain": [
              "torch.Size([4, 4])"
            ]
          },
          "metadata": {
            "tags": []
          },
          "execution_count": 3
        }
      ]
    },
    {
      "cell_type": "markdown",
      "metadata": {
        "id": "jkFFeoId4eDb"
      },
      "source": [
        "## **Asymmetric kernels, padding and strides**\n",
        "We can use different strides, different kernel sizes and different padding for height and\n",
        "width. This can be used, e.g. to adjust the size to a desired shape (4:3 to 1:1)."
      ]
    },
    {
      "cell_type": "code",
      "metadata": {
        "id": "c4CTk-AU4oSk",
        "outputId": "991abe4a-2588-4de2-9d78-066878016aa5",
        "colab": {
          "base_uri": "https://localhost:8080/",
          "height": 34
        }
      },
      "source": [
        "# pad only vertically and use different strides on the 8x8 image\n",
        "conv2d = nn.Conv2d(1, 1, kernel_size=(3, 5), padding=(0, 1), stride=(3, 4))\n",
        "comp_conv2d(conv2d, X).shape"
      ],
      "execution_count": 4,
      "outputs": [
        {
          "output_type": "execute_result",
          "data": {
            "text/plain": [
              "torch.Size([2, 2])"
            ]
          },
          "metadata": {
            "tags": []
          },
          "execution_count": 4
        }
      ]
    }
  ]
}