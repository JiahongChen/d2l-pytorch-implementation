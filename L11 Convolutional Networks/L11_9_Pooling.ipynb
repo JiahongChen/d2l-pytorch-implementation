{
  "nbformat": 4,
  "nbformat_minor": 0,
  "metadata": {
    "colab": {
      "name": "L11/9 Pooling",
      "provenance": []
    },
    "kernelspec": {
      "name": "python3",
      "display_name": "Python 3"
    }
  },
  "cells": [
    {
      "cell_type": "markdown",
      "metadata": {
        "id": "5FP4Qa1Q8GLA"
      },
      "source": [
        "# **Maximum Pooling and Average Pooling**\n",
        "\n",
        "Pooling layers does not change the number of channels, it only downsamples the spatial infomation."
      ]
    },
    {
      "cell_type": "code",
      "metadata": {
        "id": "6k4V2-AD7zyk"
      },
      "source": [
        "import torch\n",
        "\n",
        "def pool2d(X, pool_size, mode='max'):\n",
        "    p_h, p_w = pool_size\n",
        "    Y = torch.zeros((X.shape[0] - p_h + 1, X.shape[1] - p_w + 1))\n",
        "    for i in range(Y.shape[0]):\n",
        "        for j in range(Y.shape[1]):\n",
        "            if mode == 'max':\n",
        "                Y[i, j] = X[i: i + p_h, j: j + p_w].max()\n",
        "            elif mode == 'avg':\n",
        "                Y[i, j] = X[i: i + p_h, j: j + p_w].mean()\n",
        "    return Y"
      ],
      "execution_count": 1,
      "outputs": []
    },
    {
      "cell_type": "markdown",
      "metadata": {
        "id": "K2r1Z0hA8Jvc"
      },
      "source": [
        "We can construct the input array $X$ in the above diagram to validate the output of the twodimensional maximum pooling layer."
      ]
    },
    {
      "cell_type": "code",
      "metadata": {
        "id": "V_T2ShAj8MMJ",
        "outputId": "a0c3ce9f-6be6-4740-fdf0-64ec9a0b5024",
        "colab": {
          "base_uri": "https://localhost:8080/",
          "height": 102
        }
      },
      "source": [
        "X = torch.tensor([[0, 1, 2], [3, 4, 5], [6, 7, 8]], dtype=torch.float32)\n",
        "print(X)\n",
        "print(pool2d(X, (2, 2)))"
      ],
      "execution_count": 2,
      "outputs": [
        {
          "output_type": "stream",
          "text": [
            "tensor([[0., 1., 2.],\n",
            "        [3., 4., 5.],\n",
            "        [6., 7., 8.]])\n",
            "tensor([[4., 5.],\n",
            "        [7., 8.]])\n"
          ],
          "name": "stdout"
        }
      ]
    },
    {
      "cell_type": "markdown",
      "metadata": {
        "id": "k_IiGNWA8UN7"
      },
      "source": [
        "## **Average Pooling**"
      ]
    },
    {
      "cell_type": "code",
      "metadata": {
        "id": "zGz2S2UH8XuG",
        "outputId": "8863c36b-e00d-4da0-8add-62bb279acadf",
        "colab": {
          "base_uri": "https://localhost:8080/",
          "height": 51
        }
      },
      "source": [
        "pool2d(X, (2, 2), 'avg')"
      ],
      "execution_count": 3,
      "outputs": [
        {
          "output_type": "execute_result",
          "data": {
            "text/plain": [
              "tensor([[2., 3.],\n",
              "        [5., 6.]])"
            ]
          },
          "metadata": {
            "tags": []
          },
          "execution_count": 3
        }
      ]
    },
    {
      "cell_type": "markdown",
      "metadata": {
        "id": "1-N9f6lE8pPx"
      },
      "source": [
        "## **Padding and Stride**"
      ]
    },
    {
      "cell_type": "code",
      "metadata": {
        "id": "75UNzc418rcA",
        "outputId": "bdbe43d3-d6d9-4c51-ed68-0cb1cbb8a922",
        "colab": {
          "base_uri": "https://localhost:8080/",
          "height": 85
        }
      },
      "source": [
        "X = torch.arange(16).reshape((1, 1, 4, 4)).float()\n",
        "print(X)"
      ],
      "execution_count": 4,
      "outputs": [
        {
          "output_type": "stream",
          "text": [
            "tensor([[[[ 0.,  1.,  2.,  3.],\n",
            "          [ 4.,  5.,  6.,  7.],\n",
            "          [ 8.,  9., 10., 11.],\n",
            "          [12., 13., 14., 15.]]]])\n"
          ],
          "name": "stdout"
        }
      ]
    },
    {
      "cell_type": "markdown",
      "metadata": {
        "id": "Qpw89Uy48xbb"
      },
      "source": [
        "By default the stride for a window of (3, 3) is (3, 3)."
      ]
    },
    {
      "cell_type": "code",
      "metadata": {
        "id": "rk0ViPAY8zSN",
        "outputId": "b465a4c1-1a56-4deb-c828-e327de22381e",
        "colab": {
          "base_uri": "https://localhost:8080/",
          "height": 34
        }
      },
      "source": [
        "import torch.nn as nn\n",
        "pool2d = nn.MaxPool2d(3)\n",
        "# Because there are no model parameters in the pooling layer, we do not\n",
        "# need to call the parameter initialization function.\n",
        "pool2d(X) "
      ],
      "execution_count": 5,
      "outputs": [
        {
          "output_type": "execute_result",
          "data": {
            "text/plain": [
              "tensor([[[[10.]]]])"
            ]
          },
          "metadata": {
            "tags": []
          },
          "execution_count": 5
        }
      ]
    },
    {
      "cell_type": "markdown",
      "metadata": {
        "id": "JscCCtKp9VID"
      },
      "source": [
        "The stride and padding can be manually specied."
      ]
    },
    {
      "cell_type": "code",
      "metadata": {
        "id": "DoYZQAKt9WFD",
        "outputId": "f152eb14-16c7-4303-e142-8109495513ae",
        "colab": {
          "base_uri": "https://localhost:8080/",
          "height": 51
        }
      },
      "source": [
        "pool2d = nn.MaxPool2d(3, padding = 1, stride = 2)\n",
        "pool2d(X)"
      ],
      "execution_count": 6,
      "outputs": [
        {
          "output_type": "execute_result",
          "data": {
            "text/plain": [
              "tensor([[[[ 5.,  7.],\n",
              "          [13., 15.]]]])"
            ]
          },
          "metadata": {
            "tags": []
          },
          "execution_count": 6
        }
      ]
    },
    {
      "cell_type": "markdown",
      "metadata": {
        "id": "ABDA4CtO9emj"
      },
      "source": [
        "Arbitrary window"
      ]
    },
    {
      "cell_type": "code",
      "metadata": {
        "id": "1F5P9N099hLm",
        "outputId": "fd34a32a-97f5-4ff5-feec-9f4b5d831734",
        "colab": {
          "base_uri": "https://localhost:8080/",
          "height": 68
        }
      },
      "source": [
        "pool2d = nn.MaxPool2d((2, 3), padding = (1, 1), stride = (2, 3))\n",
        "pool2d(X)"
      ],
      "execution_count": 7,
      "outputs": [
        {
          "output_type": "execute_result",
          "data": {
            "text/plain": [
              "tensor([[[[ 1.,  3.],\n",
              "          [ 9., 11.],\n",
              "          [13., 15.]]]])"
            ]
          },
          "metadata": {
            "tags": []
          },
          "execution_count": 7
        }
      ]
    },
    {
      "cell_type": "markdown",
      "metadata": {
        "id": "bLQ2QGSr9vHJ"
      },
      "source": [
        "## **Multiple Channels**\n",
        "Pooling is applied per channel."
      ]
    },
    {
      "cell_type": "code",
      "metadata": {
        "id": "RPGCaQDO9umS",
        "outputId": "005c35a4-506f-467e-8f42-9bbfade57eb9",
        "colab": {
          "base_uri": "https://localhost:8080/",
          "height": 170
        }
      },
      "source": [
        "X = torch.cat((X, X + 1), dim=1)\n",
        "X"
      ],
      "execution_count": 8,
      "outputs": [
        {
          "output_type": "execute_result",
          "data": {
            "text/plain": [
              "tensor([[[[ 0.,  1.,  2.,  3.],\n",
              "          [ 4.,  5.,  6.,  7.],\n",
              "          [ 8.,  9., 10., 11.],\n",
              "          [12., 13., 14., 15.]],\n",
              "\n",
              "         [[ 1.,  2.,  3.,  4.],\n",
              "          [ 5.,  6.,  7.,  8.],\n",
              "          [ 9., 10., 11., 12.],\n",
              "          [13., 14., 15., 16.]]]])"
            ]
          },
          "metadata": {
            "tags": []
          },
          "execution_count": 8
        }
      ]
    },
    {
      "cell_type": "markdown",
      "metadata": {
        "id": "wxEjCxim99Vi"
      },
      "source": [
        "As we can see, the number of output channels is still 2 after pooling."
      ]
    },
    {
      "cell_type": "code",
      "metadata": {
        "id": "IJiqjAma9-FC",
        "outputId": "a819b436-1e22-4564-db2a-401032b18a3d",
        "colab": {
          "base_uri": "https://localhost:8080/",
          "height": 102
        }
      },
      "source": [
        "pool2d = nn.MaxPool2d(3, padding=1, stride=2)\n",
        "pool2d(X)"
      ],
      "execution_count": 9,
      "outputs": [
        {
          "output_type": "execute_result",
          "data": {
            "text/plain": [
              "tensor([[[[ 5.,  7.],\n",
              "          [13., 15.]],\n",
              "\n",
              "         [[ 6.,  8.],\n",
              "          [14., 16.]]]])"
            ]
          },
          "metadata": {
            "tags": []
          },
          "execution_count": 9
        }
      ]
    }
  ]
}