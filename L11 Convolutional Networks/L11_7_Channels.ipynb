{
  "nbformat": 4,
  "nbformat_minor": 0,
  "metadata": {
    "colab": {
      "name": "L11/7 Channels",
      "provenance": []
    },
    "kernelspec": {
      "name": "python3",
      "display_name": "Python 3"
    }
  },
  "cells": [
    {
      "cell_type": "markdown",
      "metadata": {
        "id": "iCQb08Mr5YzJ"
      },
      "source": [
        "# **Multiple Input and Output Channels**\n",
        "## **Multiple Input Channels**"
      ]
    },
    {
      "cell_type": "code",
      "metadata": {
        "id": "YK2KV-HV5TmB"
      },
      "source": [
        "import torch\n",
        "\n",
        "def corr2d(X, K):\n",
        "    h, w = K.shape\n",
        "    Y = torch.zeros((X.shape[0] - h + 1, X.shape[1] - w + 1))\n",
        "    for i in range(Y.shape[0]):\n",
        "        for j in range(Y.shape[1]):\n",
        "            Y[i, j] = (X[i: i + h, j: j + w] * K).sum()\n",
        "    return Y\n",
        "    \n",
        "def corr2d_multi_in(X, K):\n",
        "    # First, traverse along the 0th dimension (channel dimension) of X and K.\n",
        "    # Then, add them together\n",
        "    return sum([corr2d(x, k) for x, k in zip(X, K)])"
      ],
      "execution_count": 1,
      "outputs": []
    },
    {
      "cell_type": "markdown",
      "metadata": {
        "id": "Pcf6O_9-6Tp9"
      },
      "source": [
        "We can construct the input array X and the kernel array K of the above diagram to validate the output of the cross-correlation operation."
      ]
    },
    {
      "cell_type": "code",
      "metadata": {
        "id": "nXfVY3wZ6CAG",
        "outputId": "bd206b3d-e6fe-437c-b77e-0ef7b239208b",
        "colab": {
          "base_uri": "https://localhost:8080/",
          "height": 51
        }
      },
      "source": [
        "X = torch.tensor([[[0, 1, 2], [3, 4, 5], [6, 7, 8]],\n",
        "[[1, 2, 3], [4, 5, 6], [7, 8, 9]]])\n",
        "K = torch.tensor([[[0, 1], [2, 3]], [[1, 2], [3, 4]]])\n",
        "corr2d_multi_in(X, K)"
      ],
      "execution_count": 2,
      "outputs": [
        {
          "output_type": "execute_result",
          "data": {
            "text/plain": [
              "tensor([[ 56.,  72.],\n",
              "        [104., 120.]])"
            ]
          },
          "metadata": {
            "tags": []
          },
          "execution_count": 2
        }
      ]
    },
    {
      "cell_type": "markdown",
      "metadata": {
        "id": "ERAZqaVY6XDT"
      },
      "source": [
        "## **Multiple Output Channels**\n",
        "For multiple output channels we simply generate multiple outputs and then stack them\n",
        "together."
      ]
    },
    {
      "cell_type": "code",
      "metadata": {
        "id": "5Rvbv4qU6Wnq"
      },
      "source": [
        "def corr2d_multi_in_out(X, K):\n",
        "    # Traverse along the 0th dimension of K, and each time, perform \n",
        "    # cross-correlation operations with input X. All of the results are merged \n",
        "    # together using the stack function.\n",
        "    return torch.stack([corr2d_multi_in(X, k) for k in K], dim=0)"
      ],
      "execution_count": 3,
      "outputs": []
    },
    {
      "cell_type": "markdown",
      "metadata": {
        "id": "ZcyPzNft6oQP"
      },
      "source": [
        "We construct a convolution kernel with 3 output channels by concatenating the kernel\n",
        "array $K$ with $K+1$ (plus one for each element in $K$) and $K+2$."
      ]
    },
    {
      "cell_type": "code",
      "metadata": {
        "id": "cL9A3ZfE6rsH",
        "outputId": "fbbeaffd-e86f-4ae2-a122-2ebdbadd5619",
        "colab": {
          "base_uri": "https://localhost:8080/",
          "height": 34
        }
      },
      "source": [
        "K = torch.stack([K, K + 1, K + 2], dim=0)\n",
        "K.shape"
      ],
      "execution_count": 4,
      "outputs": [
        {
          "output_type": "execute_result",
          "data": {
            "text/plain": [
              "torch.Size([3, 2, 2, 2])"
            ]
          },
          "metadata": {
            "tags": []
          },
          "execution_count": 4
        }
      ]
    },
    {
      "cell_type": "markdown",
      "metadata": {
        "id": "l93BOaDs61a8"
      },
      "source": [
        "We can have multiple input and output channels."
      ]
    },
    {
      "cell_type": "code",
      "metadata": {
        "id": "WFAIDOX5613Q",
        "outputId": "eef870c5-e28a-401b-c23f-b764913a90f8",
        "colab": {
          "base_uri": "https://localhost:8080/",
          "height": 187
        }
      },
      "source": [
        "print(X.shape)\n",
        "print(K.shape)\n",
        "print(corr2d_multi_in_out(X, K))"
      ],
      "execution_count": 5,
      "outputs": [
        {
          "output_type": "stream",
          "text": [
            "torch.Size([2, 3, 3])\n",
            "torch.Size([3, 2, 2, 2])\n",
            "tensor([[[ 56.,  72.],\n",
            "         [104., 120.]],\n",
            "\n",
            "        [[ 76., 100.],\n",
            "         [148., 172.]],\n",
            "\n",
            "        [[ 96., 128.],\n",
            "         [192., 224.]]])\n"
          ],
          "name": "stdout"
        }
      ]
    },
    {
      "cell_type": "markdown",
      "metadata": {
        "id": "NG7bAzGe648e"
      },
      "source": [
        "## **$1\\times 1$ Convolutions**"
      ]
    },
    {
      "cell_type": "code",
      "metadata": {
        "id": "JKqNaVYD69yh"
      },
      "source": [
        "def corr2d_multi_in_out_1x1(X, K):\n",
        "    c_i, h, w = X.shape\n",
        "    c_o = K.shape[0]\n",
        "    X = X.reshape((c_i, h * w))\n",
        "    K = K.reshape((c_o, c_i))\n",
        "    Y = torch.matmul(K, X) # Matrix multiplication in the fully connected layer.\n",
        "    return Y.reshape((c_o, h, w))"
      ],
      "execution_count": 6,
      "outputs": []
    },
    {
      "cell_type": "markdown",
      "metadata": {
        "id": "6QTgV9i57HzH"
      },
      "source": [
        "This is equivalent to cross-correlation with an appropriately narrow $1\\times 1$ kernel."
      ]
    },
    {
      "cell_type": "code",
      "metadata": {
        "id": "n-XMUUlt7Mgc",
        "outputId": "db8dc1a1-09f5-4916-fdee-1b645e9e4b43",
        "colab": {
          "base_uri": "https://localhost:8080/",
          "height": 34
        }
      },
      "source": [
        "X = torch.randn(size=(3, 3, 3))\n",
        "K = torch.randn(size=(2, 3, 1, 1))\n",
        "Y1 = corr2d_multi_in_out_1x1(X, K)\n",
        "Y2 = corr2d_multi_in_out(X, K)\n",
        "(Y1 - Y2).norm().item() < 1e-6"
      ],
      "execution_count": 7,
      "outputs": [
        {
          "output_type": "execute_result",
          "data": {
            "text/plain": [
              "True"
            ]
          },
          "metadata": {
            "tags": []
          },
          "execution_count": 7
        }
      ]
    }
  ]
}