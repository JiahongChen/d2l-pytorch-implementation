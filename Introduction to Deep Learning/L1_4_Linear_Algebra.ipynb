{
  "nbformat": 4,
  "nbformat_minor": 0,
  "metadata": {
    "colab": {
      "name": "L1/4 Linear Algebra",
      "provenance": [],
      "collapsed_sections": []
    },
    "kernelspec": {
      "name": "python3",
      "display_name": "Python 3"
    }
  },
  "cells": [
    {
      "cell_type": "markdown",
      "metadata": {
        "id": "3LA0jAFi2641",
        "colab_type": "text"
      },
      "source": [
        "# **Liner Algebra**\n",
        "In Pytorch, variables are stored in tensors."
      ]
    },
    {
      "cell_type": "code",
      "metadata": {
        "id": "baU3niPx3DHg",
        "colab_type": "code",
        "colab": {}
      },
      "source": [
        "import torch"
      ],
      "execution_count": 1,
      "outputs": []
    },
    {
      "cell_type": "code",
      "metadata": {
        "id": "-43OxJ683TE8",
        "colab_type": "code",
        "colab": {
          "base_uri": "https://localhost:8080/",
          "height": 85
        },
        "outputId": "32724ba1-51ea-497d-f227-9bbdfaea0bcd"
      },
      "source": [
        "x = torch.tensor([3.0])\n",
        "y = torch.tensor([2.0])\n",
        "\n",
        "print('x + y = ', x + y)\n",
        "print('x * y = ', x * y)\n",
        "print('x / y = ', x / y)\n",
        "print('x ** y = ', torch.pow(x,y))"
      ],
      "execution_count": 2,
      "outputs": [
        {
          "output_type": "stream",
          "text": [
            "x + y =  tensor([5.])\n",
            "x * y =  tensor([6.])\n",
            "x / y =  tensor([1.5000])\n",
            "x ** y =  tensor([9.])\n"
          ],
          "name": "stdout"
        }
      ]
    },
    {
      "cell_type": "markdown",
      "metadata": {
        "id": "Zs1pnq303pNL",
        "colab_type": "text"
      },
      "source": [
        "In Pytorch, we can convert any tensors to a Python flooat by calling its *item()* method. (which\n",
        "this is typically a bad idea.)"
      ]
    },
    {
      "cell_type": "code",
      "metadata": {
        "id": "0PUIZwpv36eX",
        "colab_type": "code",
        "colab": {
          "base_uri": "https://localhost:8080/",
          "height": 34
        },
        "outputId": "602711c1-9f4e-402f-aec5-139ce340b6aa"
      },
      "source": [
        "x.item()"
      ],
      "execution_count": 3,
      "outputs": [
        {
          "output_type": "execute_result",
          "data": {
            "text/plain": [
              "3.0"
            ]
          },
          "metadata": {
            "tags": []
          },
          "execution_count": 3
        }
      ]
    },
    {
      "cell_type": "markdown",
      "metadata": {
        "id": "4QFqTfOA4AEQ",
        "colab_type": "text"
      },
      "source": [
        "# **Vectors**\n",
        "Vectors are e.g. [1.0, 3.0, 4.0, 2.0] . We use 1D tensors.\n"
      ]
    },
    {
      "cell_type": "code",
      "metadata": {
        "id": "IL6Kvph14JDc",
        "colab_type": "code",
        "colab": {
          "base_uri": "https://localhost:8080/",
          "height": 68
        },
        "outputId": "bf417d79-6521-4366-f2af-19d58fecbabc"
      },
      "source": [
        "x = torch.arange(5)\n",
        "print('x = ', x)\n",
        "\n",
        "x = torch.tensor([1.0, 3.0, 4.0, 2.0])\n",
        "print('x = ', x)\n",
        "\n",
        "x[3]"
      ],
      "execution_count": 4,
      "outputs": [
        {
          "output_type": "stream",
          "text": [
            "x =  tensor([0, 1, 2, 3, 4])\n",
            "x =  tensor([1., 3., 4., 2.])\n"
          ],
          "name": "stdout"
        },
        {
          "output_type": "execute_result",
          "data": {
            "text/plain": [
              "tensor(2.)"
            ]
          },
          "metadata": {
            "tags": []
          },
          "execution_count": 4
        }
      ]
    },
    {
      "cell_type": "markdown",
      "metadata": {
        "id": "LvTd-jCU4iYJ",
        "colab_type": "text"
      },
      "source": [
        "# **Length, dimensionality and shape**\n",
        "\n",
        "The length of a vector is commonly called its dimension. We can access a ventor tensor's length via its *.shape* attribute. The shape is a tuple that lists the dimensionality along each of its axes."
      ]
    },
    {
      "cell_type": "code",
      "metadata": {
        "id": "rELtMlAf4hd3",
        "colab_type": "code",
        "colab": {
          "base_uri": "https://localhost:8080/",
          "height": 34
        },
        "outputId": "ef4529ff-ed1f-4047-f744-0c0db2fa7c00"
      },
      "source": [
        "x.shape"
      ],
      "execution_count": 5,
      "outputs": [
        {
          "output_type": "execute_result",
          "data": {
            "text/plain": [
              "torch.Size([4])"
            ]
          },
          "metadata": {
            "tags": []
          },
          "execution_count": 5
        }
      ]
    },
    {
      "cell_type": "markdown",
      "metadata": {
        "id": "qCdyugXR5A4w",
        "colab_type": "text"
      },
      "source": [
        "# **Matrices**"
      ]
    },
    {
      "cell_type": "code",
      "metadata": {
        "id": "2IGt0E305Y7C",
        "colab_type": "code",
        "colab": {
          "base_uri": "https://localhost:8080/",
          "height": 119
        },
        "outputId": "a4d48b40-6bd1-4f16-ec8c-241b9ef85754"
      },
      "source": [
        "print(torch.arange(10))\n",
        "A = torch.arange(20).reshape((5,4))\n",
        "print(A)"
      ],
      "execution_count": 6,
      "outputs": [
        {
          "output_type": "stream",
          "text": [
            "tensor([0, 1, 2, 3, 4, 5, 6, 7, 8, 9])\n",
            "tensor([[ 0,  1,  2,  3],\n",
            "        [ 4,  5,  6,  7],\n",
            "        [ 8,  9, 10, 11],\n",
            "        [12, 13, 14, 15],\n",
            "        [16, 17, 18, 19]])\n"
          ],
          "name": "stdout"
        }
      ]
    },
    {
      "cell_type": "markdown",
      "metadata": {
        "id": "kn_85rdZ5eBC",
        "colab_type": "text"
      },
      "source": [
        "Element $a_{ij}$ of matrix $\\mathbf{A}$ by specifying $i$th row and $j$th column.\n",
        "Matrix transpose can be achieved through *.T* atrribute. "
      ]
    },
    {
      "cell_type": "code",
      "metadata": {
        "id": "AiQjf_LI53bp",
        "colab_type": "code",
        "colab": {
          "base_uri": "https://localhost:8080/",
          "height": 102
        },
        "outputId": "6ae538fa-0f57-49d7-ce7e-6560307668b3"
      },
      "source": [
        "i, j = 1, 3\n",
        "print('a_ij:', A[i,j].item())\n",
        "print('Matrix transpose:', A.T)"
      ],
      "execution_count": 7,
      "outputs": [
        {
          "output_type": "stream",
          "text": [
            "a_ij: 7\n",
            "Matrix transpose: tensor([[ 0,  4,  8, 12, 16],\n",
            "        [ 1,  5,  9, 13, 17],\n",
            "        [ 2,  6, 10, 14, 18],\n",
            "        [ 3,  7, 11, 15, 19]])\n"
          ],
          "name": "stdout"
        }
      ]
    },
    {
      "cell_type": "markdown",
      "metadata": {
        "id": "8p46OCTr6PxI",
        "colab_type": "text"
      },
      "source": [
        "# **Tensors**\n",
        "\n",
        "A tensor is a generalization of vectors and matrices to potentially higher dimensions. You can think it as a n-dimensional s of base datatypes.\n",
        "\n",
        "For example, when working with images, a model input is usually represented as the axes that correspond to [batch, RGB color channels, height, width]."
      ]
    },
    {
      "cell_type": "code",
      "metadata": {
        "id": "-wHdHu4q6PKE",
        "colab_type": "code",
        "colab": {
          "base_uri": "https://localhost:8080/",
          "height": 153
        },
        "outputId": "fcb8e31f-4fb3-4b32-80d8-7b685c0630f9"
      },
      "source": [
        "X = torch.arange(24).reshape((2, 3, 4))\n",
        "print('X.shape =', X.shape)\n",
        "print('X =', X)"
      ],
      "execution_count": 8,
      "outputs": [
        {
          "output_type": "stream",
          "text": [
            "X.shape = torch.Size([2, 3, 4])\n",
            "X = tensor([[[ 0,  1,  2,  3],\n",
            "         [ 4,  5,  6,  7],\n",
            "         [ 8,  9, 10, 11]],\n",
            "\n",
            "        [[12, 13, 14, 15],\n",
            "         [16, 17, 18, 19],\n",
            "         [20, 21, 22, 23]]])\n"
          ],
          "name": "stdout"
        }
      ]
    },
    {
      "cell_type": "markdown",
      "metadata": {
        "id": "L2cBskSW7Qvf",
        "colab_type": "text"
      },
      "source": [
        "# **Basic properties of tensor arithmetic**\n",
        "\n",
        "Given two tensors $X$, $Y$ with the same shape, $\\alpha X+Y$ has the same shape."
      ]
    },
    {
      "cell_type": "code",
      "metadata": {
        "id": "sJMFtHzB7gZz",
        "colab_type": "code",
        "colab": {
          "base_uri": "https://localhost:8080/",
          "height": 85
        },
        "outputId": "a44d34f0-c689-412d-8921-7100d3bf28a9"
      },
      "source": [
        "a = 2\n",
        "x = torch.ones(3)\n",
        "y = torch.zeros(3)\n",
        "print(x.shape)\n",
        "print(y.shape)\n",
        "print((a * x).shape)\n",
        "print((a * x + y).shape)"
      ],
      "execution_count": 9,
      "outputs": [
        {
          "output_type": "stream",
          "text": [
            "torch.Size([3])\n",
            "torch.Size([3])\n",
            "torch.Size([3])\n",
            "torch.Size([3])\n"
          ],
          "name": "stdout"
        }
      ]
    },
    {
      "cell_type": "markdown",
      "metadata": {
        "id": "54SLsHPM7lZp",
        "colab_type": "text"
      },
      "source": [
        "# **Sums and means**\n",
        "\n"
      ]
    },
    {
      "cell_type": "code",
      "metadata": {
        "id": "xY-qXn737pF_",
        "colab_type": "code",
        "colab": {
          "base_uri": "https://localhost:8080/",
          "height": 153
        },
        "outputId": "a4ba8570-2fe5-486c-81eb-e13b231e2180"
      },
      "source": [
        "print(x)\n",
        "print('Sum of vector', torch.sum(x))\n",
        "print(A)\n",
        "print('Sum of matrix', torch.sum(A))"
      ],
      "execution_count": 10,
      "outputs": [
        {
          "output_type": "stream",
          "text": [
            "tensor([1., 1., 1.])\n",
            "Sum of vector tensor(3.)\n",
            "tensor([[ 0,  1,  2,  3],\n",
            "        [ 4,  5,  6,  7],\n",
            "        [ 8,  9, 10, 11],\n",
            "        [12, 13, 14, 15],\n",
            "        [16, 17, 18, 19]])\n",
            "Sum of matrix tensor(190)\n"
          ],
          "name": "stdout"
        }
      ]
    },
    {
      "cell_type": "markdown",
      "metadata": {
        "id": "E3fSlLH97-er",
        "colab_type": "text"
      },
      "source": [
        "For the sum of matrices, you can also specify which dimension to be summed."
      ]
    },
    {
      "cell_type": "code",
      "metadata": {
        "id": "19QTB8eg7vWy",
        "colab_type": "code",
        "colab": {
          "base_uri": "https://localhost:8080/",
          "height": 119
        },
        "outputId": "68f45b83-fc77-45bf-d0b0-647adf7d943d"
      },
      "source": [
        "print(A)\n",
        "print('Sum over rows of matrix', torch.sum(A, dim=0))"
      ],
      "execution_count": 11,
      "outputs": [
        {
          "output_type": "stream",
          "text": [
            "tensor([[ 0,  1,  2,  3],\n",
            "        [ 4,  5,  6,  7],\n",
            "        [ 8,  9, 10, 11],\n",
            "        [12, 13, 14, 15],\n",
            "        [16, 17, 18, 19]])\n",
            "Sum over rows of matrix tensor([40, 45, 50, 55])\n"
          ],
          "name": "stdout"
        }
      ]
    },
    {
      "cell_type": "markdown",
      "metadata": {
        "id": "M5P0tX8Q8URg",
        "colab_type": "text"
      },
      "source": [
        "A related quantity is the *mean*"
      ]
    },
    {
      "cell_type": "code",
      "metadata": {
        "id": "W1nfFA4H8Yhc",
        "colab_type": "code",
        "colab": {
          "base_uri": "https://localhost:8080/",
          "height": 51
        },
        "outputId": "a78aa35f-b034-47f1-da95-fc7a6bd3264f"
      },
      "source": [
        "print(torch.mean(A.float()))\n",
        "print(torch.sum(A.float()) / torch.numel(A))"
      ],
      "execution_count": 12,
      "outputs": [
        {
          "output_type": "stream",
          "text": [
            "tensor(9.5000)\n",
            "tensor(9.5000)\n"
          ],
          "name": "stdout"
        }
      ]
    },
    {
      "cell_type": "markdown",
      "metadata": {
        "id": "j5mSaOJP80ID",
        "colab_type": "text"
      },
      "source": [
        "Similary, you can specify which dimension to calculate the mean."
      ]
    },
    {
      "cell_type": "code",
      "metadata": {
        "id": "FhamHX158zwq",
        "colab_type": "code",
        "colab": {
          "base_uri": "https://localhost:8080/",
          "height": 34
        },
        "outputId": "552c04fb-0886-4f5a-a343-b047fe92f5e8"
      },
      "source": [
        "print(torch.mean(A.float(), dim=0))"
      ],
      "execution_count": 13,
      "outputs": [
        {
          "output_type": "stream",
          "text": [
            "tensor([ 8.,  9., 10., 11.])\n"
          ],
          "name": "stdout"
        }
      ]
    },
    {
      "cell_type": "markdown",
      "metadata": {
        "id": "vUs3cVRa9AQS",
        "colab_type": "text"
      },
      "source": [
        "# **Dot productions**\n",
        "\n",
        "Given two vectors $\\mathbf{u}$ and $\\mathbf{v}$, the dot product $\\mathbf{u}^T\\mathbf{v}$ is a sum over the products of the corresponding elements:$\\mathbf{u}^T\\mathbf{v} = \\sum_{i=1}^d u_i\\cdot v_i$.\n",
        "\n",
        "Both *torch.matmul* and *torch.dot* are okay to 1-dimensional tesnsor (vectors)."
      ]
    },
    {
      "cell_type": "code",
      "metadata": {
        "id": "9htPr6Af97e6",
        "colab_type": "code",
        "colab": {
          "base_uri": "https://localhost:8080/",
          "height": 51
        },
        "outputId": "1d28a267-15e6-4c3c-a490-db11e627ff38"
      },
      "source": [
        "x = torch.arange(4).float()\n",
        "y = torch.ones(4).float()\n",
        "print(x, y, torch.matmul(x, y))\n",
        "print(x, y, torch.dot(x, y))"
      ],
      "execution_count": 14,
      "outputs": [
        {
          "output_type": "stream",
          "text": [
            "tensor([0., 1., 2., 3.]) tensor([1., 1., 1., 1.]) tensor(6.)\n",
            "tensor([0., 1., 2., 3.]) tensor([1., 1., 1., 1.]) tensor(6.)\n"
          ],
          "name": "stdout"
        }
      ]
    },
    {
      "cell_type": "markdown",
      "metadata": {
        "id": "HvTNZdzr-6Rm",
        "colab_type": "text"
      },
      "source": [
        "Actually, for 1-dimensional tensors, *torch.matmul* will always return the dot product (scalar). And for 2-dimensional tensors, the matrix-matrix product is returned."
      ]
    },
    {
      "cell_type": "code",
      "metadata": {
        "id": "jUqrFu3f-7qq",
        "colab_type": "code",
        "colab": {
          "base_uri": "https://localhost:8080/",
          "height": 102
        },
        "outputId": "03dd664b-d698-4bfa-c93c-a543a0b09700"
      },
      "source": [
        "print(torch.matmul(x.T, y.T))\n",
        "print(torch.matmul(x.reshape((4,1)), y.reshape((1,4))))"
      ],
      "execution_count": 15,
      "outputs": [
        {
          "output_type": "stream",
          "text": [
            "tensor(6.)\n",
            "tensor([[0., 0., 0., 0.],\n",
            "        [1., 1., 1., 1.],\n",
            "        [2., 2., 2., 2.],\n",
            "        [3., 3., 3., 3.]])\n"
          ],
          "name": "stdout"
        }
      ]
    },
    {
      "cell_type": "markdown",
      "metadata": {
        "id": "PvflM6Xh_paK",
        "colab_type": "text"
      },
      "source": [
        "Note that the dot product of two vectors is  equivalent to performing an element-wise multiplication and then a sum:"
      ]
    },
    {
      "cell_type": "code",
      "metadata": {
        "id": "-6hq4Yjz_ypV",
        "colab_type": "code",
        "colab": {
          "base_uri": "https://localhost:8080/",
          "height": 34
        },
        "outputId": "222b18bc-d237-4131-8e55-39a7e19113d5"
      },
      "source": [
        "torch.sum(x * y)"
      ],
      "execution_count": 16,
      "outputs": [
        {
          "output_type": "execute_result",
          "data": {
            "text/plain": [
              "tensor(6.)"
            ]
          },
          "metadata": {
            "tags": []
          },
          "execution_count": 16
        }
      ]
    },
    {
      "cell_type": "markdown",
      "metadata": {
        "id": "TTugtNxQ_1uv",
        "colab_type": "text"
      },
      "source": [
        "# **Matrix-vector products**\n",
        "\n",
        "Simimarly, we use *torch.matmul*."
      ]
    },
    {
      "cell_type": "code",
      "metadata": {
        "id": "M3TOzaDMALvR",
        "colab_type": "code",
        "colab": {
          "base_uri": "https://localhost:8080/",
          "height": 34
        },
        "outputId": "76631ed6-1831-4bff-a83a-995aac7dc842"
      },
      "source": [
        "torch.matmul(A.float(), x.float())"
      ],
      "execution_count": 17,
      "outputs": [
        {
          "output_type": "execute_result",
          "data": {
            "text/plain": [
              "tensor([ 14.,  38.,  62.,  86., 110.])"
            ]
          },
          "metadata": {
            "tags": []
          },
          "execution_count": 17
        }
      ]
    },
    {
      "cell_type": "markdown",
      "metadata": {
        "id": "Q-qS8MNiAmvb",
        "colab_type": "text"
      },
      "source": [
        "# **Matrix-matrix multiplication**\n",
        "\n",
        "We can think of the matrix-matrix multiplication as simply performing $m$ matrix-vector products and stitching the results together.\n",
        "\n",
        "Again, we can use *torch.matmul* to achieve this operation."
      ]
    },
    {
      "cell_type": "code",
      "metadata": {
        "id": "1U77xEdsBCD0",
        "colab_type": "code",
        "colab": {
          "base_uri": "https://localhost:8080/",
          "height": 102
        },
        "outputId": "62789d30-1062-4e18-be7c-b1534d1d9947"
      },
      "source": [
        "B = torch.ones((4, 3))\n",
        "torch.matmul(A.float(), B.float())"
      ],
      "execution_count": 18,
      "outputs": [
        {
          "output_type": "execute_result",
          "data": {
            "text/plain": [
              "tensor([[ 6.,  6.,  6.],\n",
              "        [22., 22., 22.],\n",
              "        [38., 38., 38.],\n",
              "        [54., 54., 54.],\n",
              "        [70., 70., 70.]])"
            ]
          },
          "metadata": {
            "tags": []
          },
          "execution_count": 18
        }
      ]
    },
    {
      "cell_type": "markdown",
      "metadata": {
        "id": "RfXy-bGKBQs2",
        "colab_type": "text"
      },
      "source": [
        "# **Norms**\n",
        "\n",
        "$\\ell_2$ norm:"
      ]
    },
    {
      "cell_type": "code",
      "metadata": {
        "id": "4pD4P9UbBiD0",
        "colab_type": "code",
        "colab": {
          "base_uri": "https://localhost:8080/",
          "height": 34
        },
        "outputId": "bd0d1746-b1ef-4057-ccc5-7db64d37812e"
      },
      "source": [
        "torch.norm(x)"
      ],
      "execution_count": 19,
      "outputs": [
        {
          "output_type": "execute_result",
          "data": {
            "text/plain": [
              "tensor(3.7417)"
            ]
          },
          "metadata": {
            "tags": []
          },
          "execution_count": 19
        }
      ]
    },
    {
      "cell_type": "markdown",
      "metadata": {
        "id": "BdsLRZtKB60a",
        "colab_type": "text"
      },
      "source": [
        "$\\ell_1$ norm:"
      ]
    },
    {
      "cell_type": "code",
      "metadata": {
        "id": "JLNbimr1B9WD",
        "colab_type": "code",
        "colab": {
          "base_uri": "https://localhost:8080/",
          "height": 34
        },
        "outputId": "44949824-6326-4b38-d292-8f4e897eb2d5"
      },
      "source": [
        "torch.sum(torch.abs(x))"
      ],
      "execution_count": 20,
      "outputs": [
        {
          "output_type": "execute_result",
          "data": {
            "text/plain": [
              "tensor(6.)"
            ]
          },
          "metadata": {
            "tags": []
          },
          "execution_count": 20
        }
      ]
    }
  ]
}
