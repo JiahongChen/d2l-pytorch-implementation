{
  "nbformat": 4,
  "nbformat_minor": 0,
  "metadata": {
    "celltoolbar": "Slideshow",
    "kernelspec": {
      "display_name": "Python 3",
      "language": "python",
      "name": "python3"
    },
    "language_info": {
      "codemirror_mode": {
        "name": "ipython",
        "version": 3
      },
      "file_extension": ".py",
      "mimetype": "text/x-python",
      "name": "python",
      "nbconvert_exporter": "python",
      "pygments_lexer": "ipython3",
      "version": "3.7.1"
    },
    "colab": {
      "name": "L6/Lab_Kaggle_House_Price.ipynb",
      "provenance": []
    }
  },
  "cells": [
    {
      "cell_type": "markdown",
      "metadata": {
        "id": "qkw4A3rEq_Xu",
        "colab_type": "text"
      },
      "source": [
        "# Predicting House Prices on [Kaggle](https://www.kaggle.com/c/house-prices-advanced-regression-techniques)"
      ]
    },
    {
      "cell_type": "code",
      "metadata": {
        "ExecuteTime": {
          "end_time": "2019-02-14T19:15:45.685992Z",
          "start_time": "2019-02-14T19:15:42.969213Z"
        },
        "attributes": {
          "classes": [],
          "id": "",
          "n": "3"
        },
        "id": "UDMaAicsq_Xv",
        "colab_type": "code",
        "colab": {}
      },
      "source": [
        "%matplotlib inline\n",
        "import torch\n",
        "import torch.nn as nn\n",
        "import numpy as np\n",
        "import pandas as pd\n",
        "import matplotlib.pyplot as plt"
      ],
      "execution_count": 1,
      "outputs": []
    },
    {
      "cell_type": "markdown",
      "metadata": {
        "id": "y-vmYjA9q_Xz",
        "colab_type": "text"
      },
      "source": [
        "## Accessing and Reading Data Sets"
      ]
    },
    {
      "cell_type": "code",
      "metadata": {
        "ExecuteTime": {
          "end_time": "2019-02-14T19:15:45.819464Z",
          "start_time": "2019-02-14T19:15:45.691844Z"
        },
        "attributes": {
          "classes": [],
          "id": "",
          "n": "14"
        },
        "id": "EqAW4aEJq_Xz",
        "colab_type": "code",
        "colab": {
          "base_uri": "https://localhost:8080/",
          "height": 51
        },
        "outputId": "3e956edf-30b3-40b8-ba14-0d5b040b7648"
      },
      "source": [
        "import requests\n",
        "import io\n",
        "# We simply use the dataest hosted by D2L, not from kaggle\n",
        "kaggle_train_url=\"http://d2l-data.s3-accelerate.amazonaws.com/kaggle_house_pred_train.csv\"\n",
        "kaggle_test_url=\"http://d2l-data.s3-accelerate.amazonaws.com/kaggle_house_pred_test.csv\"\n",
        "train_data = pd.read_csv(kaggle_train_url)\n",
        "test_data = pd.read_csv(kaggle_test_url)\n",
        "print(train_data.shape)\n",
        "print(test_data.shape)"
      ],
      "execution_count": 2,
      "outputs": [
        {
          "output_type": "stream",
          "text": [
            "(1460, 81)\n",
            "(1459, 80)\n"
          ],
          "name": "stdout"
        }
      ]
    },
    {
      "cell_type": "markdown",
      "metadata": {
        "id": "gagIZI1Qq_X1",
        "colab_type": "text"
      },
      "source": [
        "## A Quick View of the Data"
      ]
    },
    {
      "cell_type": "code",
      "metadata": {
        "ExecuteTime": {
          "end_time": "2019-02-14T19:15:45.881547Z",
          "start_time": "2019-02-14T19:15:45.826648Z"
        },
        "attributes": {
          "classes": [],
          "id": "",
          "n": "28"
        },
        "id": "uhvbQaNzq_X2",
        "colab_type": "code",
        "colab": {
          "base_uri": "https://localhost:8080/",
          "height": 173
        },
        "outputId": "395a9f6d-9b1f-4cf4-ee86-81af1e18553f"
      },
      "source": [
        "train_data.iloc[0:4, [0, 1, 2, 3, -3, -2, -1]]"
      ],
      "execution_count": 3,
      "outputs": [
        {
          "output_type": "execute_result",
          "data": {
            "text/html": [
              "<div>\n",
              "<style scoped>\n",
              "    .dataframe tbody tr th:only-of-type {\n",
              "        vertical-align: middle;\n",
              "    }\n",
              "\n",
              "    .dataframe tbody tr th {\n",
              "        vertical-align: top;\n",
              "    }\n",
              "\n",
              "    .dataframe thead th {\n",
              "        text-align: right;\n",
              "    }\n",
              "</style>\n",
              "<table border=\"1\" class=\"dataframe\">\n",
              "  <thead>\n",
              "    <tr style=\"text-align: right;\">\n",
              "      <th></th>\n",
              "      <th>Id</th>\n",
              "      <th>MSSubClass</th>\n",
              "      <th>MSZoning</th>\n",
              "      <th>LotFrontage</th>\n",
              "      <th>SaleType</th>\n",
              "      <th>SaleCondition</th>\n",
              "      <th>SalePrice</th>\n",
              "    </tr>\n",
              "  </thead>\n",
              "  <tbody>\n",
              "    <tr>\n",
              "      <th>0</th>\n",
              "      <td>1</td>\n",
              "      <td>60</td>\n",
              "      <td>RL</td>\n",
              "      <td>65.0</td>\n",
              "      <td>WD</td>\n",
              "      <td>Normal</td>\n",
              "      <td>208500</td>\n",
              "    </tr>\n",
              "    <tr>\n",
              "      <th>1</th>\n",
              "      <td>2</td>\n",
              "      <td>20</td>\n",
              "      <td>RL</td>\n",
              "      <td>80.0</td>\n",
              "      <td>WD</td>\n",
              "      <td>Normal</td>\n",
              "      <td>181500</td>\n",
              "    </tr>\n",
              "    <tr>\n",
              "      <th>2</th>\n",
              "      <td>3</td>\n",
              "      <td>60</td>\n",
              "      <td>RL</td>\n",
              "      <td>68.0</td>\n",
              "      <td>WD</td>\n",
              "      <td>Normal</td>\n",
              "      <td>223500</td>\n",
              "    </tr>\n",
              "    <tr>\n",
              "      <th>3</th>\n",
              "      <td>4</td>\n",
              "      <td>70</td>\n",
              "      <td>RL</td>\n",
              "      <td>60.0</td>\n",
              "      <td>WD</td>\n",
              "      <td>Abnorml</td>\n",
              "      <td>140000</td>\n",
              "    </tr>\n",
              "  </tbody>\n",
              "</table>\n",
              "</div>"
            ],
            "text/plain": [
              "   Id  MSSubClass MSZoning  LotFrontage SaleType SaleCondition  SalePrice\n",
              "0   1          60       RL         65.0       WD        Normal     208500\n",
              "1   2          20       RL         80.0       WD        Normal     181500\n",
              "2   3          60       RL         68.0       WD        Normal     223500\n",
              "3   4          70       RL         60.0       WD       Abnorml     140000"
            ]
          },
          "metadata": {
            "tags": []
          },
          "execution_count": 3
        }
      ]
    },
    {
      "cell_type": "markdown",
      "metadata": {
        "id": "yVSqIJfCq_X6",
        "colab_type": "text"
      },
      "source": [
        "## Combile Train and Test for Pre-processing"
      ]
    },
    {
      "cell_type": "code",
      "metadata": {
        "ExecuteTime": {
          "end_time": "2019-02-14T19:15:45.966156Z",
          "start_time": "2019-02-14T19:15:45.887915Z"
        },
        "attributes": {
          "classes": [],
          "id": "",
          "n": "30"
        },
        "id": "aS7aqP7Oq_X7",
        "colab_type": "code",
        "colab": {}
      },
      "source": [
        "all_features = pd.concat((train_data.iloc[:, 1:-1], test_data.iloc[:, 1:]))"
      ],
      "execution_count": 4,
      "outputs": []
    },
    {
      "cell_type": "markdown",
      "metadata": {
        "id": "2mIwVxI2q_X9",
        "colab_type": "text"
      },
      "source": [
        "## Standardize and Replace Missing Value with 0"
      ]
    },
    {
      "cell_type": "code",
      "metadata": {
        "ExecuteTime": {
          "end_time": "2019-02-14T19:15:46.184149Z",
          "start_time": "2019-02-14T19:15:45.974777Z"
        },
        "attributes": {
          "classes": [],
          "id": "",
          "n": "6"
        },
        "id": "uNmSzcsFq_X-",
        "colab_type": "code",
        "colab": {}
      },
      "source": [
        "numeric_features = all_features.dtypes[all_features.dtypes != 'object'].index\n",
        "all_features[numeric_features] = all_features[numeric_features].apply(\n",
        "    lambda x: (x - x.mean()) / (x.std()))\n",
        "all_features = all_features.fillna(0)"
      ],
      "execution_count": 5,
      "outputs": []
    },
    {
      "cell_type": "markdown",
      "metadata": {
        "id": "FceW7mbLq_YA",
        "colab_type": "text"
      },
      "source": [
        "## Replace Discrete Feature with One-hot Encoding "
      ]
    },
    {
      "cell_type": "code",
      "metadata": {
        "ExecuteTime": {
          "end_time": "2019-02-14T19:15:46.915126Z",
          "start_time": "2019-02-14T19:15:46.193884Z"
        },
        "attributes": {
          "classes": [],
          "id": "",
          "n": "7"
        },
        "id": "vkhDjJ_kq_YB",
        "colab_type": "code",
        "colab": {
          "base_uri": "https://localhost:8080/",
          "height": 34
        },
        "outputId": "e946d8c8-7a6e-4913-bbcb-f2561e826ac8"
      },
      "source": [
        "all_features = pd.get_dummies(all_features, dummy_na=True)\n",
        "all_features.shape"
      ],
      "execution_count": 6,
      "outputs": [
        {
          "output_type": "execute_result",
          "data": {
            "text/plain": [
              "(2919, 354)"
            ]
          },
          "metadata": {
            "tags": []
          },
          "execution_count": 6
        }
      ]
    },
    {
      "cell_type": "markdown",
      "metadata": {
        "id": "FumvCc0Iq_YD",
        "colab_type": "text"
      },
      "source": [
        "## Preprocessed Dataset"
      ]
    },
    {
      "cell_type": "code",
      "metadata": {
        "ExecuteTime": {
          "end_time": "2019-02-14T19:15:47.074135Z",
          "start_time": "2019-02-14T19:15:46.947678Z"
        },
        "attributes": {
          "classes": [],
          "id": "",
          "n": "9"
        },
        "id": "zy3SxDxYq_YE",
        "colab_type": "code",
        "colab": {}
      },
      "source": [
        "n_train = train_data.shape[0]\n",
        "train_features = torch.tensor(all_features[:n_train].values, dtype=torch.float32)\n",
        "test_features = torch.tensor(all_features[n_train:].values, dtype=torch.float32)\n",
        "train_labels = torch.tensor(train_data.SalePrice.values, dtype=torch.float32).reshape((-1, 1))"
      ],
      "execution_count": 7,
      "outputs": []
    },
    {
      "cell_type": "markdown",
      "metadata": {
        "id": "aWNhFbJcq_YG",
        "colab_type": "text"
      },
      "source": [
        "## Linear Regression with L2 Loss"
      ]
    },
    {
      "cell_type": "code",
      "metadata": {
        "ExecuteTime": {
          "end_time": "2019-02-14T19:15:47.110895Z",
          "start_time": "2019-02-14T19:15:47.086415Z"
        },
        "attributes": {
          "classes": [],
          "id": "",
          "n": "13"
        },
        "id": "MzhAJOIgq_YG",
        "colab_type": "code",
        "colab": {}
      },
      "source": [
        "loss = nn.MSELoss()\n",
        "\n",
        "def init_weights(m):\n",
        "    if type(m) == nn.Linear:\n",
        "        # Initialize weight parameter by a normal distribition \n",
        "        # with a mean of 0 and standard deviation of 0.01.\n",
        "        nn.init.normal_(m.weight.data, std=0.01)\n",
        "        # The bias parameter is initialized to zero by default.\n",
        "        m.bias.data.fill_(0.0)\n",
        "        \n",
        "def get_net():\n",
        "    net = nn.Sequential(nn.Linear(train_features.shape[1], 1))\n",
        "    return net"
      ],
      "execution_count": 8,
      "outputs": []
    },
    {
      "cell_type": "markdown",
      "metadata": {
        "id": "tMcn9ncmq_YI",
        "colab_type": "text"
      },
      "source": [
        "## Log Root Mean Square Error \n",
        "\n",
        "$$L = \\sqrt{\\frac{1}{n}\\sum_{i=1}^n\\left(\\log y_i -\\log \\hat{y}_i\\right)^2}$$\n",
        "\n",
        "A small value $\\delta$ of $\\log y - \\log \\hat{y}$ translates into $e^{-\\delta} \\leq \\frac{\\hat{y}}{y} \\leq e^\\delta$. \n"
      ]
    },
    {
      "cell_type": "code",
      "metadata": {
        "ExecuteTime": {
          "end_time": "2019-02-14T19:15:47.136759Z",
          "start_time": "2019-02-14T19:15:47.118537Z"
        },
        "attributes": {
          "classes": [],
          "id": "",
          "n": "11"
        },
        "id": "Mc_ehnUYq_YI",
        "colab_type": "code",
        "colab": {}
      },
      "source": [
        "def log_rmse(net, features, labels):\n",
        "    clipped_preds = torch.clamp(net(features), 1, float('inf'))\n",
        "    rmse = torch.sqrt(2 * loss(clipped_preds.log(), labels.log()).mean())\n",
        "    return rmse.item()"
      ],
      "execution_count": 9,
      "outputs": []
    },
    {
      "cell_type": "markdown",
      "metadata": {
        "id": "xQxCL-u1q_YK",
        "colab_type": "text"
      },
      "source": [
        "## A less LR insenstive Adam Optimizatier "
      ]
    },
    {
      "cell_type": "code",
      "metadata": {
        "ExecuteTime": {
          "end_time": "2019-02-14T19:15:47.187320Z",
          "start_time": "2019-02-14T19:15:47.145640Z"
        },
        "attributes": {
          "classes": [],
          "id": "",
          "n": "14"
        },
        "id": "zqOudo0bq_YK",
        "colab_type": "code",
        "colab": {}
      },
      "source": [
        "def train(net, train_features, train_labels, test_features, test_labels,\n",
        "          num_epochs, learning_rate, weight_decay, batch_size):\n",
        "    train_ls, test_ls = [], []\n",
        "    train_iter = torch.utils.data.DataLoader(\n",
        "        torch.utils.data.TensorDataset(train_features,train_labels), \n",
        "        batch_size, shuffle=True)\n",
        "    trainer = torch.optim.Adam(net.parameters(), lr = learning_rate, weight_decay = weight_decay)\n",
        "    for epoch in range(num_epochs):\n",
        "        for X, y in train_iter:\n",
        "            trainer.zero_grad()\n",
        "            with torch.enable_grad():\n",
        "                l = loss(net(X), y)\n",
        "            l.backward()\n",
        "            trainer.step()\n",
        "        train_ls.append(log_rmse(net, train_features, train_labels))\n",
        "        if test_labels is not None:\n",
        "            test_ls.append(log_rmse(net, test_features, test_labels))\n",
        "    return train_ls, test_ls"
      ],
      "execution_count": 10,
      "outputs": []
    },
    {
      "cell_type": "markdown",
      "metadata": {
        "id": "HIJgb1aQq_YN",
        "colab_type": "text"
      },
      "source": [
        "## Get k-Fold Cross-Validation Data"
      ]
    },
    {
      "cell_type": "code",
      "metadata": {
        "ExecuteTime": {
          "end_time": "2019-02-14T19:15:47.239332Z",
          "start_time": "2019-02-14T19:15:47.202188Z"
        },
        "id": "sOYFyO-Hq_YN",
        "colab_type": "code",
        "colab": {}
      },
      "source": [
        "def get_k_fold_data(k, i, X, y):\n",
        "    assert k > 1\n",
        "    fold_size = X.shape[0] // k\n",
        "    X_train, y_train = None, None\n",
        "    for j in range(k):\n",
        "        idx = slice(j * fold_size, (j + 1) * fold_size)\n",
        "        X_part, y_part = X[idx, :], y[idx]\n",
        "        if j == i:\n",
        "            X_valid, y_valid = X_part, y_part\n",
        "        elif X_train is None:\n",
        "            X_train, y_train = X_part, y_part\n",
        "        else:\n",
        "            X_train = torch.cat((X_train, X_part), dim=0)\n",
        "            y_train = torch.cat((y_train, y_part), dim=0)\n",
        "    return X_train, y_train, X_valid, y_valid"
      ],
      "execution_count": 11,
      "outputs": []
    },
    {
      "cell_type": "markdown",
      "metadata": {
        "id": "AkIEzTZ9q_YP",
        "colab_type": "text"
      },
      "source": [
        "##  k-Fold Cross-Validation"
      ]
    },
    {
      "cell_type": "code",
      "metadata": {
        "ExecuteTime": {
          "end_time": "2019-02-14T19:16:09.311595Z",
          "start_time": "2019-02-14T19:16:09.297360Z"
        },
        "attributes": {
          "classes": [],
          "id": "",
          "n": "15"
        },
        "id": "bUYdHmO6q_YQ",
        "colab_type": "code",
        "colab": {}
      },
      "source": [
        "def semilogy(x_vals, y_vals, x_label, y_label, x2_vals=None, y2_vals=None,\n",
        "             legend=None, figsize=(3.5, 2.5)):\n",
        "    \"\"\"Plot x and log(y).\"\"\"\n",
        "    plt.rcParams['figure.figsize'] = figsize\n",
        "    plt.xlabel(x_label)\n",
        "    plt.ylabel(y_label)\n",
        "    plt.semilogy(x_vals, y_vals)\n",
        "    if x2_vals and y2_vals:\n",
        "        plt.semilogy(x2_vals, y2_vals, linestyle=':')\n",
        "        plt.legend(legend)\n",
        "    plt.show()\n",
        "\n",
        "def k_fold(k, X_train, y_train, num_epochs,\n",
        "           learning_rate, weight_decay, batch_size):\n",
        "    train_l_sum, valid_l_sum = 0, 0\n",
        "    for i in range(k):\n",
        "        data = get_k_fold_data(k, i, X_train, y_train)\n",
        "        net = get_net()\n",
        "        net.apply(init_weights)\n",
        "        train_ls, valid_ls = train(net, data[0],data[1],data[2],data[3], num_epochs, learning_rate,\n",
        "                                   weight_decay, batch_size)\n",
        "        train_l_sum += train_ls[-1]\n",
        "        valid_l_sum += valid_ls[-1]\n",
        "        if i == 0:\n",
        "            semilogy(range(1, num_epochs + 1), train_ls, 'epochs', 'rmse',\n",
        "                        range(1, num_epochs + 1), valid_ls,\n",
        "                        ['train', 'valid'])\n",
        "        print('fold %d, train rmse: %f, valid rmse: %f' % (\n",
        "            i, train_ls[-1], valid_ls[-1]))\n",
        "    return train_l_sum / k, valid_l_sum / k"
      ],
      "execution_count": 12,
      "outputs": []
    },
    {
      "cell_type": "markdown",
      "metadata": {
        "id": "hmP-jrL0q_YS",
        "colab_type": "text"
      },
      "source": [
        "## Model Selection\n"
      ]
    },
    {
      "cell_type": "code",
      "metadata": {
        "ExecuteTime": {
          "end_time": "2019-02-14T19:17:07.477518Z",
          "start_time": "2019-02-14T19:16:11.486859Z"
        },
        "attributes": {
          "classes": [],
          "id": "",
          "n": "16"
        },
        "id": "cTk2ae7eq_YS",
        "colab_type": "code",
        "colab": {
          "base_uri": "https://localhost:8080/",
          "height": 300
        },
        "outputId": "3dbba599-0db1-4362-cca6-b91e307c9fc2"
      },
      "source": [
        "k, num_epochs, lr, weight_decay, batch_size = 5, 100, 5, 0, 64\n",
        "train_l, valid_l = k_fold(k, train_features, train_labels, num_epochs, lr,\n",
        "                          weight_decay, batch_size)\n",
        "print('%d-fold validation: avg train rmse: %f, avg valid rmse: %f'\n",
        "      % (k, train_l, valid_l))"
      ],
      "execution_count": 13,
      "outputs": [
        {
          "output_type": "display_data",
          "data": {
            "image/png": "[encoded data removed]",
            "text/plain": [
              "<Figure size 252x180 with 1 Axes>"
            ]
          },
          "metadata": {
            "tags": [],
            "needs_background": "light"
          }
        },
        {
          "output_type": "stream",
          "text": [
            "fold 0, train rmse: 0.240570, valid rmse: 0.221782\n",
            "fold 1, train rmse: 0.229295, valid rmse: 0.267302\n",
            "fold 2, train rmse: 0.232107, valid rmse: 0.238200\n",
            "fold 3, train rmse: 0.237700, valid rmse: 0.218658\n",
            "fold 4, train rmse: 0.229785, valid rmse: 0.258525\n",
            "5-fold validation: avg train rmse: 0.233891, avg valid rmse: 0.240893\n"
          ],
          "name": "stdout"
        }
      ]
    },
    {
      "cell_type": "markdown",
      "metadata": {
        "id": "XOhIexciq_YU",
        "colab_type": "text"
      },
      "source": [
        "##  Predict and Submit"
      ]
    },
    {
      "cell_type": "code",
      "metadata": {
        "ExecuteTime": {
          "end_time": "2019-02-14T19:15:47.301946Z",
          "start_time": "2019-02-14T19:15:42.975Z"
        },
        "attributes": {
          "classes": [],
          "id": "",
          "n": "18"
        },
        "id": "OtlH4_RMq_YU",
        "colab_type": "code",
        "colab": {
          "base_uri": "https://localhost:8080/",
          "height": 215
        },
        "outputId": "fcb883e2-ca3c-43bc-9afd-71769261e879"
      },
      "source": [
        "def train_and_pred(train_features, test_feature, train_labels, test_data,\n",
        "                   num_epochs, lr, weight_decay, batch_size):\n",
        "    net = get_net()\n",
        "    net.apply(init_weights)\n",
        "    train_ls, _ = train(net, train_features, train_labels, None, None,\n",
        "                        num_epochs, lr, weight_decay, batch_size)\n",
        "    semilogy(range(1, num_epochs + 1), train_ls, 'epochs', 'rmse')\n",
        "    print('train rmse %f' % train_ls[-1])\n",
        "    preds = net(test_features).detach().numpy()\n",
        "    test_data['SalePrice'] = pd.Series(preds.reshape(1, -1)[0])\n",
        "    submission = pd.concat([test_data['Id'], test_data['SalePrice']], axis=1)\n",
        "    submission.to_csv('submission.csv', index=False)\n",
        "    \n",
        "train_and_pred(train_features, test_features, train_labels, test_data,\n",
        "               num_epochs, lr, weight_decay, batch_size)        "
      ],
      "execution_count": 14,
      "outputs": [
        {
          "output_type": "display_data",
          "data": {
            "image/png": "[encoded data removed]",
            "text/plain": [
              "<Figure size 252x180 with 1 Axes>"
            ]
          },
          "metadata": {
            "tags": [],
            "needs_background": "light"
          }
        },
        {
          "output_type": "stream",
          "text": [
            "train rmse 0.229850\n"
          ],
          "name": "stdout"
        }
      ]
    }
  ]
}