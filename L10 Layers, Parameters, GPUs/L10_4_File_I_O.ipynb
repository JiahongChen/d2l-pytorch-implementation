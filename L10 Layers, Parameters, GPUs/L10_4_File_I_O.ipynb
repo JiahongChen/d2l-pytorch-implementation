{
  "nbformat": 4,
  "nbformat_minor": 0,
  "metadata": {
    "celltoolbar": "Slideshow",
    "kernelspec": {
      "display_name": "Python 3",
      "language": "python",
      "name": "python3"
    },
    "language_info": {
      "codemirror_mode": {
        "name": "ipython",
        "version": 3
      },
      "file_extension": ".py",
      "mimetype": "text/x-python",
      "name": "python",
      "nbconvert_exporter": "python",
      "pygments_lexer": "ipython3",
      "version": "3.7.1"
    },
    "colab": {
      "name": "L10/4 File I/O",
      "provenance": []
    }
  },
  "cells": [
    {
      "cell_type": "markdown",
      "metadata": {
        "id": "I124so3Rl9fQ"
      },
      "source": [
        "# **File I/O**\n",
        "\n",
        "\n",
        "## **Save & Load Tensor**\n"
      ]
    },
    {
      "cell_type": "code",
      "metadata": {
        "id": "IOZSamT0l9fR",
        "outputId": "88372441-f74c-4259-80c4-4e0b285d5453",
        "colab": {
          "base_uri": "https://localhost:8080/",
          "height": 34
        }
      },
      "source": [
        "import torch\n",
        "import torch.nn as nn\n",
        "\n",
        "x=torch.arange(4)\n",
        "torch.save(x,\"x-file\")\n",
        "x2 = torch.load(\"x-file\")\n",
        "print(x2)"
      ],
      "execution_count": 1,
      "outputs": [
        {
          "output_type": "stream",
          "text": [
            "tensor([0, 1, 2, 3])\n"
          ],
          "name": "stdout"
        }
      ]
    },
    {
      "cell_type": "markdown",
      "metadata": {
        "id": "mWxSPYfWl9fZ"
      },
      "source": [
        "### Save & Load a List of Arrays "
      ]
    },
    {
      "cell_type": "code",
      "metadata": {
        "attributes": {
          "classes": [],
          "id": "",
          "n": "2"
        },
        "id": "MlgHjx5Dl9fa",
        "outputId": "9fcaa3eb-8f8f-44fe-ca3b-4d37d5fe4eb2",
        "colab": {
          "base_uri": "https://localhost:8080/",
          "height": 34
        }
      },
      "source": [
        "y = torch.zeros(4)\n",
        "torch.save([x, y], 'xy-files')\n",
        "x2, y2 = torch.load('xy-files')\n",
        "print(x2, y2)"
      ],
      "execution_count": 2,
      "outputs": [
        {
          "output_type": "stream",
          "text": [
            "tensor([0, 1, 2, 3]) tensor([0., 0., 0., 0.])\n"
          ],
          "name": "stdout"
        }
      ]
    },
    {
      "cell_type": "markdown",
      "metadata": {
        "id": "7I6Rhvzbl9fd"
      },
      "source": [
        "### Save & Load a Dictionary of Arrays"
      ]
    },
    {
      "cell_type": "code",
      "metadata": {
        "attributes": {
          "classes": [],
          "id": "",
          "n": "4"
        },
        "scrolled": true,
        "id": "XH2kUNiKl9fd",
        "outputId": "1e9aecd3-be02-49a4-ea62-3c43f2897b82",
        "colab": {
          "base_uri": "https://localhost:8080/",
          "height": 34
        }
      },
      "source": [
        "mydict = {'x': x, 'y': y}\n",
        "torch.save(mydict, 'mydict')\n",
        "mydict2 = torch.load('mydict')\n",
        "mydict2"
      ],
      "execution_count": 3,
      "outputs": [
        {
          "output_type": "execute_result",
          "data": {
            "text/plain": [
              "{'x': tensor([0, 1, 2, 3]), 'y': tensor([0., 0., 0., 0.])}"
            ]
          },
          "metadata": {
            "tags": []
          },
          "execution_count": 3
        }
      ]
    },
    {
      "cell_type": "markdown",
      "metadata": {
        "id": "hp3orpNKl9ff"
      },
      "source": [
        "## **PyTorch Model Parameters**"
      ]
    },
    {
      "cell_type": "code",
      "metadata": {
        "attributes": {
          "classes": [],
          "id": "",
          "n": "6"
        },
        "id": "qGt3KuwJl9fg"
      },
      "source": [
        "class MLP(nn.Module):\n",
        "    def __init__(self):\n",
        "        super(MLP, self).__init__()\n",
        "        self.hidden = nn.Linear(20, 256)\n",
        "        self.output = nn.Linear(256, 10)\n",
        "        self.relu = nn.ReLU()\n",
        "\n",
        "    def forward(self, x):\n",
        "        return self.output(self.relu(self.hidden(x)))\n",
        "\n",
        "net = MLP()\n",
        "x = torch.randn(size=(2, 20))\n",
        "y = net(x)"
      ],
      "execution_count": 4,
      "outputs": []
    },
    {
      "cell_type": "markdown",
      "metadata": {
        "id": "lGdwpvkGl9fj"
      },
      "source": [
        "### Save "
      ]
    },
    {
      "cell_type": "code",
      "metadata": {
        "id": "frsrLGSil9fk"
      },
      "source": [
        "torch.save(net.state_dict(), 'mlp.params')"
      ],
      "execution_count": 5,
      "outputs": []
    },
    {
      "cell_type": "markdown",
      "metadata": {
        "id": "OYcxbTXVl9fq"
      },
      "source": [
        "## Load "
      ]
    },
    {
      "cell_type": "code",
      "metadata": {
        "attributes": {
          "classes": [],
          "id": "",
          "n": "8"
        },
        "id": "VrpILDuZl9fr",
        "outputId": "ae71cd9a-0671-4541-d6d6-bd28051923b8",
        "colab": {
          "base_uri": "https://localhost:8080/",
          "height": 51
        }
      },
      "source": [
        "clone = MLP()\n",
        "clone.load_state_dict(torch.load(\"mlp.params\"))\n",
        "\n",
        "yclone = clone(x)\n",
        "yclone == y"
      ],
      "execution_count": 6,
      "outputs": [
        {
          "output_type": "execute_result",
          "data": {
            "text/plain": [
              "tensor([[True, True, True, True, True, True, True, True, True, True],\n",
              "        [True, True, True, True, True, True, True, True, True, True]])"
            ]
          },
          "metadata": {
            "tags": []
          },
          "execution_count": 6
        }
      ]
    }
  ]
}