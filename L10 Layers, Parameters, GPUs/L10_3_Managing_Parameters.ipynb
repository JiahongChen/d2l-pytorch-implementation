{
  "nbformat": 4,
  "nbformat_minor": 0,
  "metadata": {
    "celltoolbar": "Slideshow",
    "kernelspec": {
      "display_name": "Python 3",
      "language": "python",
      "name": "python3"
    },
    "language_info": {
      "codemirror_mode": {
        "name": "ipython",
        "version": 3
      },
      "file_extension": ".py",
      "mimetype": "text/x-python",
      "name": "python",
      "nbconvert_exporter": "python",
      "pygments_lexer": "ipython3",
      "version": "3.7.1"
    },
    "colab": {
      "name": "L10/3 Managing Parameters",
      "provenance": []
    }
  },
  "cells": [
    {
      "cell_type": "markdown",
      "metadata": {
        "id": "_-BOsKS6dHt4"
      },
      "source": [
        "# Parameter Management"
      ]
    },
    {
      "cell_type": "code",
      "metadata": {
        "ExecuteTime": {
          "end_time": "2019-02-08T00:47:11.877310Z",
          "start_time": "2019-02-08T00:46:24.393742Z"
        },
        "attributes": {
          "classes": [],
          "id": "",
          "n": "1"
        },
        "id": "gK9gL3y6dHt5",
        "outputId": "855fb19e-4791-4edd-bc37-267652254617",
        "colab": {
          "base_uri": "https://localhost:8080/",
          "height": 85
        }
      },
      "source": [
        "import torch \n",
        "import torch.nn as nn\n",
        "\n",
        "net = nn.Sequential(nn.Linear(20, 256),\n",
        "                    nn.ReLU(),\n",
        "                    nn.Linear(256, 10))\n",
        "\n",
        "def init_weights(m):\n",
        "    if type(m) == nn.Linear:\n",
        "        # Initialize weight parameter by a normal distribition \n",
        "        # with a mean of 0 and standard deviation of 0.01.\n",
        "        nn.init.normal_(m.weight.data, std=0.01)\n",
        "        # The bias parameter is initialized to zero by default.\n",
        "        m.bias.data.fill_(0.0)\n",
        "\n",
        "net.apply(init_weights)\n",
        "x = torch.randn(2,20) \n",
        "net(x)           "
      ],
      "execution_count": 1,
      "outputs": [
        {
          "output_type": "execute_result",
          "data": {
            "text/plain": [
              "tensor([[-0.0015, -0.0002,  0.0014, -0.0040, -0.0015, -0.0003,  0.0035,  0.0027,\n",
              "         -0.0072, -0.0021],\n",
              "        [ 0.0019,  0.0021, -0.0010,  0.0040,  0.0029, -0.0029,  0.0023,  0.0018,\n",
              "         -0.0007, -0.0057]], grad_fn=<AddmmBackward>)"
            ]
          },
          "metadata": {
            "tags": []
          },
          "execution_count": 1
        }
      ]
    },
    {
      "cell_type": "markdown",
      "metadata": {
        "id": "3YLHLaFPdHt-"
      },
      "source": [
        "## Parameter Access"
      ]
    },
    {
      "cell_type": "code",
      "metadata": {
        "ExecuteTime": {
          "end_time": "2019-02-08T00:47:11.892215Z",
          "start_time": "2019-02-08T00:47:11.882421Z"
        },
        "attributes": {
          "classes": [],
          "id": "",
          "n": "2"
        },
        "id": "Bqcu7NSxdHuD",
        "outputId": "831c4cab-86ee-45f1-b64c-b7408dce8649",
        "colab": {
          "base_uri": "https://localhost:8080/",
          "height": 153
        }
      },
      "source": [
        "print('Netwrork structure: ', net)\n",
        "print(net[0].parameters)\n",
        "print(net[1].parameters)\n",
        "print(net[2].parameters)"
      ],
      "execution_count": 2,
      "outputs": [
        {
          "output_type": "stream",
          "text": [
            "Netwrork structure:  Sequential(\n",
            "  (0): Linear(in_features=20, out_features=256, bias=True)\n",
            "  (1): ReLU()\n",
            "  (2): Linear(in_features=256, out_features=10, bias=True)\n",
            ")\n",
            "<bound method Module.parameters of Linear(in_features=20, out_features=256, bias=True)>\n",
            "<bound method Module.parameters of ReLU()>\n",
            "<bound method Module.parameters of Linear(in_features=256, out_features=10, bias=True)>\n"
          ],
          "name": "stdout"
        }
      ]
    },
    {
      "cell_type": "markdown",
      "metadata": {
        "id": "0ymRAKzYdHuK"
      },
      "source": [
        "### Targeted Parameters"
      ]
    },
    {
      "cell_type": "code",
      "metadata": {
        "ExecuteTime": {
          "end_time": "2019-02-08T00:47:11.952540Z",
          "start_time": "2019-02-08T00:47:11.919446Z"
        },
        "attributes": {
          "classes": [],
          "id": "",
          "n": "3"
        },
        "scrolled": false,
        "id": "EwIPn1wOdHuK",
        "outputId": "cd3bd27c-89ee-4122-8dd9-c790e97931e3",
        "colab": {
          "base_uri": "https://localhost:8080/",
          "height": 476
        }
      },
      "source": [
        "print(net[0].weight)\n",
        "print(net[0].bias)"
      ],
      "execution_count": 3,
      "outputs": [
        {
          "output_type": "stream",
          "text": [
            "Parameter containing:\n",
            "tensor([[-2.1886e-03,  1.3199e-02, -1.3012e-03,  ..., -4.3397e-04,\n",
            "          7.1551e-03,  3.5285e-03],\n",
            "        [ 3.4181e-03,  3.9722e-04, -1.2453e-02,  ...,  8.6626e-03,\n",
            "          1.0587e-02, -6.4080e-03],\n",
            "        [ 8.8158e-03, -8.6248e-03, -7.9011e-03,  ...,  4.7793e-03,\n",
            "          5.7793e-03,  1.4681e-02],\n",
            "        ...,\n",
            "        [-6.3947e-03,  8.4270e-05, -1.9869e-03,  ...,  1.2666e-03,\n",
            "          9.4543e-03, -5.2006e-03],\n",
            "        [ 1.9524e-03,  6.6059e-03,  1.9889e-02,  ...,  4.1482e-03,\n",
            "          1.0078e-02, -2.2610e-02],\n",
            "        [ 5.9135e-03,  1.4009e-02,  8.0821e-04,  ..., -4.6321e-03,\n",
            "         -6.7223e-04, -7.1269e-03]], requires_grad=True)\n",
            "Parameter containing:\n",
            "tensor([0., 0., 0., 0., 0., 0., 0., 0., 0., 0., 0., 0., 0., 0., 0., 0., 0., 0., 0., 0., 0., 0., 0., 0.,\n",
            "        0., 0., 0., 0., 0., 0., 0., 0., 0., 0., 0., 0., 0., 0., 0., 0., 0., 0., 0., 0., 0., 0., 0., 0.,\n",
            "        0., 0., 0., 0., 0., 0., 0., 0., 0., 0., 0., 0., 0., 0., 0., 0., 0., 0., 0., 0., 0., 0., 0., 0.,\n",
            "        0., 0., 0., 0., 0., 0., 0., 0., 0., 0., 0., 0., 0., 0., 0., 0., 0., 0., 0., 0., 0., 0., 0., 0.,\n",
            "        0., 0., 0., 0., 0., 0., 0., 0., 0., 0., 0., 0., 0., 0., 0., 0., 0., 0., 0., 0., 0., 0., 0., 0.,\n",
            "        0., 0., 0., 0., 0., 0., 0., 0., 0., 0., 0., 0., 0., 0., 0., 0., 0., 0., 0., 0., 0., 0., 0., 0.,\n",
            "        0., 0., 0., 0., 0., 0., 0., 0., 0., 0., 0., 0., 0., 0., 0., 0., 0., 0., 0., 0., 0., 0., 0., 0.,\n",
            "        0., 0., 0., 0., 0., 0., 0., 0., 0., 0., 0., 0., 0., 0., 0., 0., 0., 0., 0., 0., 0., 0., 0., 0.,\n",
            "        0., 0., 0., 0., 0., 0., 0., 0., 0., 0., 0., 0., 0., 0., 0., 0., 0., 0., 0., 0., 0., 0., 0., 0.,\n",
            "        0., 0., 0., 0., 0., 0., 0., 0., 0., 0., 0., 0., 0., 0., 0., 0., 0., 0., 0., 0., 0., 0., 0., 0.,\n",
            "        0., 0., 0., 0., 0., 0., 0., 0., 0., 0., 0., 0., 0., 0., 0., 0.],\n",
            "       requires_grad=True)\n"
          ],
          "name": "stdout"
        }
      ]
    },
    {
      "cell_type": "markdown",
      "metadata": {
        "id": "POqSH680dHuN"
      },
      "source": [
        "### Access Gradient\n",
        "\n",
        "As we have not invoke backprobagation, the output is None"
      ]
    },
    {
      "cell_type": "code",
      "metadata": {
        "ExecuteTime": {
          "end_time": "2019-02-08T00:47:11.989681Z",
          "start_time": "2019-02-08T00:47:11.966326Z"
        },
        "attributes": {
          "classes": [],
          "id": "",
          "n": "5"
        },
        "id": "0Sp9hPcCdHuO"
      },
      "source": [
        "net[0].weight.grad"
      ],
      "execution_count": 4,
      "outputs": []
    },
    {
      "cell_type": "markdown",
      "metadata": {
        "id": "kJrqddBcdHuQ"
      },
      "source": [
        "### All Parameters at Once"
      ]
    },
    {
      "cell_type": "code",
      "metadata": {
        "ExecuteTime": {
          "end_time": "2019-02-08T00:47:12.017807Z",
          "start_time": "2019-02-08T00:47:11.998813Z"
        },
        "attributes": {
          "classes": [],
          "id": "",
          "n": "6"
        },
        "id": "TvdSIa7adHuR",
        "outputId": "7d461f11-a6b5-4aed-d4a4-70834f301d47",
        "colab": {
          "base_uri": "https://localhost:8080/",
          "height": 102
        }
      },
      "source": [
        "print(net.state_dict)"
      ],
      "execution_count": 5,
      "outputs": [
        {
          "output_type": "stream",
          "text": [
            "<bound method Module.state_dict of Sequential(\n",
            "  (0): Linear(in_features=20, out_features=256, bias=True)\n",
            "  (1): ReLU()\n",
            "  (2): Linear(in_features=256, out_features=10, bias=True)\n",
            ")>\n"
          ],
          "name": "stdout"
        }
      ]
    },
    {
      "cell_type": "markdown",
      "metadata": {
        "id": "W5CmA5xCdHub"
      },
      "source": [
        "## Parameter Initialization\n",
        "\n",
        "### Gaussian random Initialization"
      ]
    },
    {
      "cell_type": "code",
      "metadata": {
        "ExecuteTime": {
          "end_time": "2019-02-08T00:47:12.299716Z",
          "start_time": "2019-02-08T00:47:12.271952Z"
        },
        "attributes": {
          "classes": [],
          "id": "",
          "n": "9"
        },
        "id": "IkfZho4zdHub",
        "outputId": "83671dd6-bde3-4428-86ac-fbeebf520c54",
        "colab": {
          "base_uri": "https://localhost:8080/",
          "height": 68
        }
      },
      "source": [
        "# force_reinit ensures that the variables are initialized again\n",
        "torch.nn.init.normal_(net[0].weight, mean=0, std =0.01)\n",
        "net[0].weight.data[0]"
      ],
      "execution_count": 6,
      "outputs": [
        {
          "output_type": "execute_result",
          "data": {
            "text/plain": [
              "tensor([-0.0029, -0.0009,  0.0035,  0.0085,  0.0021, -0.0038,  0.0003,  0.0065,\n",
              "        -0.0123, -0.0097, -0.0108,  0.0028, -0.0066,  0.0122, -0.0136,  0.0072,\n",
              "        -0.0075,  0.0047, -0.0053, -0.0112])"
            ]
          },
          "metadata": {
            "tags": []
          },
          "execution_count": 6
        }
      ]
    },
    {
      "cell_type": "markdown",
      "metadata": {
        "id": "0JOefVkZdHud"
      },
      "source": [
        "### Constant Initialization "
      ]
    },
    {
      "cell_type": "code",
      "metadata": {
        "ExecuteTime": {
          "end_time": "2019-02-08T00:47:12.339742Z",
          "start_time": "2019-02-08T00:47:12.309250Z"
        },
        "attributes": {
          "classes": [],
          "id": "",
          "n": "10"
        },
        "id": "qt6UrhG6dHue",
        "outputId": "a97b80b5-2cf0-46b3-8efb-ed1fff6faa33",
        "colab": {
          "base_uri": "https://localhost:8080/",
          "height": 51
        }
      },
      "source": [
        "torch.nn.init.constant_(net[0].weight, val=1)\n",
        "net[0].weight.data[0]"
      ],
      "execution_count": 7,
      "outputs": [
        {
          "output_type": "execute_result",
          "data": {
            "text/plain": [
              "tensor([1., 1., 1., 1., 1., 1., 1., 1., 1., 1., 1., 1., 1., 1., 1., 1., 1., 1.,\n",
              "        1., 1.])"
            ]
          },
          "metadata": {
            "tags": []
          },
          "execution_count": 7
        }
      ]
    },
    {
      "cell_type": "markdown",
      "metadata": {
        "id": "7p9EhM0NdHuh"
      },
      "source": [
        "### Multiple Initializations "
      ]
    },
    {
      "cell_type": "code",
      "metadata": {
        "ExecuteTime": {
          "end_time": "2019-02-08T00:47:12.370571Z",
          "start_time": "2019-02-08T00:47:12.349027Z"
        },
        "attributes": {
          "classes": [],
          "id": "",
          "n": "11"
        },
        "id": "PsJm7juzdHuh",
        "outputId": "286f4ea9-6cd6-4f5b-ce94-7bb75aac9093",
        "colab": {
          "base_uri": "https://localhost:8080/",
          "height": 85
        }
      },
      "source": [
        "torch.nn.init.constant_(net[2].weight, val=42)\n",
        "torch.nn.init.xavier_uniform_(net[0].weight)\n",
        "print(net[2].weight.data[0,0])\n",
        "print(net[0].weight.data[0])"
      ],
      "execution_count": 8,
      "outputs": [
        {
          "output_type": "stream",
          "text": [
            "tensor(42.)\n",
            "tensor([ 0.0791, -0.1439, -0.0874, -0.0939,  0.0020,  0.1474, -0.1367,  0.0813,\n",
            "         0.0922, -0.0469, -0.0855,  0.0612, -0.0373,  0.0666, -0.1339,  0.0973,\n",
            "         0.0735, -0.0855, -0.0604,  0.0672])\n"
          ],
          "name": "stdout"
        }
      ]
    },
    {
      "cell_type": "markdown",
      "metadata": {
        "id": "DzYdI3nadHuk"
      },
      "source": [
        "### Custom Initialization\n",
        "\n",
        "$$\n",
        "\\begin{aligned}\n",
        "    w \\sim \\begin{cases}\n",
        "        U[5, 10] & \\text{ with probability } \\frac{1}{4} \\\\\n",
        "            0    & \\text{ with probability } \\frac{1}{2} \\\\\n",
        "        U[-10, -5] & \\text{ with probability } \\frac{1}{4}\n",
        "    \\end{cases}\n",
        "\\end{aligned}\n",
        "$$"
      ]
    },
    {
      "cell_type": "code",
      "metadata": {
        "ExecuteTime": {
          "end_time": "2019-02-08T00:47:12.410118Z",
          "start_time": "2019-02-08T00:47:12.378674Z"
        },
        "attributes": {
          "classes": [],
          "id": "",
          "n": "12"
        },
        "id": "aQ6bDzNedHuk",
        "outputId": "d0acb413-28e7-4c05-c883-28703f5bfdd0",
        "colab": {
          "base_uri": "https://localhost:8080/",
          "height": 68
        }
      },
      "source": [
        "# class MyInit(init.Initializer):\n",
        "#     def _init_weight(self, name, data):\n",
        "#         print('Init', name, data.shape)\n",
        "#         data[:] = nd.random.uniform(low=-10, high=10, shape=data.shape)\n",
        "#         data *= data.abs() >= 5\n",
        "def init_weights(m):\n",
        "    if type(m) == nn.Linear:\n",
        "        torch.nn.init.uniform_(m.weight, -10, 10)\n",
        "        m.weight.data *= m.weight.data.abs() >= 5\n",
        "net.apply(init_weights)\n",
        "net[0].weight.data[0]"
      ],
      "execution_count": 9,
      "outputs": [
        {
          "output_type": "execute_result",
          "data": {
            "text/plain": [
              "tensor([-8.1520, -0.0000, -0.0000, -7.0293, -0.0000, -8.3091,  8.7162,  0.0000,\n",
              "         8.7612, -0.0000,  0.0000, -9.2657, -0.0000,  5.0226, -0.0000,  0.0000,\n",
              "        -0.0000,  8.8486,  5.5990, -6.6388])"
            ]
          },
          "metadata": {
            "tags": []
          },
          "execution_count": 9
        }
      ]
    },
    {
      "cell_type": "markdown",
      "metadata": {
        "id": "kW374JMsdHun"
      },
      "source": [
        "### Modify Parameters Directly "
      ]
    },
    {
      "cell_type": "code",
      "metadata": {
        "ExecuteTime": {
          "end_time": "2019-02-08T00:47:12.436210Z",
          "start_time": "2019-02-08T00:47:12.417722Z"
        },
        "attributes": {
          "classes": [],
          "id": "",
          "n": "13"
        },
        "id": "MtKCzkbadHun",
        "outputId": "ade43652-fb82-43e1-a9b7-96a3043134f6",
        "colab": {
          "base_uri": "https://localhost:8080/",
          "height": 68
        }
      },
      "source": [
        "net[0].weight.data[:] += 1\n",
        "net[0].weight.data[0,0] = 42\n",
        "net[0].weight.data[0]"
      ],
      "execution_count": 10,
      "outputs": [
        {
          "output_type": "execute_result",
          "data": {
            "text/plain": [
              "tensor([42.0000,  1.0000,  1.0000, -6.0293,  1.0000, -7.3091,  9.7162,  1.0000,\n",
              "         9.7612,  1.0000,  1.0000, -8.2657,  1.0000,  6.0226,  1.0000,  1.0000,\n",
              "         1.0000,  9.8486,  6.5990, -5.6388])"
            ]
          },
          "metadata": {
            "tags": []
          },
          "execution_count": 10
        }
      ]
    },
    {
      "cell_type": "markdown",
      "metadata": {
        "id": "9apJwbVXdHuq"
      },
      "source": [
        "## Tied Parameters\n"
      ]
    },
    {
      "cell_type": "code",
      "metadata": {
        "ExecuteTime": {
          "end_time": "2019-02-08T00:47:12.495206Z",
          "start_time": "2019-02-08T00:47:12.445787Z"
        },
        "attributes": {
          "classes": [],
          "id": "",
          "n": "14"
        },
        "id": "NOVoQA6EdHuq",
        "outputId": "ea015780-0d02-4449-c1c2-e029789cb4f0",
        "colab": {
          "base_uri": "https://localhost:8080/",
          "height": 204
        }
      },
      "source": [
        "shared = nn.Sequential(nn.Linear(8,8),\n",
        "                    nn.ReLU()\n",
        "                    )\n",
        "tied_net = nn.Sequential(nn.Linear(20, 8),\n",
        "                        nn.ReLU(),\n",
        "                        *shared,\n",
        "                        *shared,\n",
        "                        nn.Linear(8, 10))\n",
        "\n",
        "def init_weights(m):\n",
        "    if type(m) == nn.Linear:\n",
        "        torch.nn.init.xavier_uniform_(m.weight)\n",
        "\n",
        "tied_net.apply(init_weights)\n",
        "tied_net(x)\n",
        "\n",
        "print(tied_net)\n",
        "\n",
        "# Check whether the parameters are the same\n",
        "print(tied_net[2].weight.data[0] == tied_net[4].weight.data[0])\n",
        "tied_net[2].weight.data[0,0] = 100\n",
        "# And make sure that they're actually the same object rather than just having the same value.\n",
        "print(tied_net[2].weight.data[0] == tied_net[4].weight.data[0])"
      ],
      "execution_count": 11,
      "outputs": [
        {
          "output_type": "stream",
          "text": [
            "Sequential(\n",
            "  (0): Linear(in_features=20, out_features=8, bias=True)\n",
            "  (1): ReLU()\n",
            "  (2): Linear(in_features=8, out_features=8, bias=True)\n",
            "  (3): ReLU()\n",
            "  (4): Linear(in_features=8, out_features=8, bias=True)\n",
            "  (5): ReLU()\n",
            "  (6): Linear(in_features=8, out_features=10, bias=True)\n",
            ")\n",
            "tensor([True, True, True, True, True, True, True, True])\n",
            "tensor([True, True, True, True, True, True, True, True])\n"
          ],
          "name": "stdout"
        }
      ]
    }
  ]
}