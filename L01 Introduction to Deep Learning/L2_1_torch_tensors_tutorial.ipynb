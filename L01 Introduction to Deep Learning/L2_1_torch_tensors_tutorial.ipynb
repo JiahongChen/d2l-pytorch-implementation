{
  "nbformat": 4,
  "nbformat_minor": 0,
  "metadata": {
    "colab": {
      "name": "L2/1 torch tensors tutorial",
      "provenance": [],
      "collapsed_sections": []
    },
    "kernelspec": {
      "name": "python3",
      "display_name": "Python 3"
    }
  },
  "cells": [
    {
      "cell_type": "markdown",
      "metadata": {
        "id": "3LA0jAFi2641",
        "colab_type": "text"
      },
      "source": [
        "# ***tensors* Tutorial**\n",
        "The simplest object we can create is a vector. "
      ]
    },
    {
      "cell_type": "code",
      "metadata": {
        "id": "baU3niPx3DHg",
        "colab_type": "code",
        "colab": {
          "base_uri": "https://localhost:8080/",
          "height": 34
        },
        "outputId": "728acb25-d310-478c-8648-4a25c4950d2a"
      },
      "source": [
        "import torch\n",
        "\n",
        "x = torch.arange(12)\n",
        "print (x)"
      ],
      "execution_count": 1,
      "outputs": [
        {
          "output_type": "stream",
          "text": [
            "tensor([ 0,  1,  2,  3,  4,  5,  6,  7,  8,  9, 10, 11])\n"
          ],
          "name": "stdout"
        }
      ]
    },
    {
      "cell_type": "markdown",
      "metadata": {
        "id": "1loxjVAAGBDC",
        "colab_type": "text"
      },
      "source": [
        "We can ge the *tensor* shape through its *shape* attribute or *size()* function"
      ]
    },
    {
      "cell_type": "code",
      "metadata": {
        "id": "X5w7u9PwGGh4",
        "colab_type": "code",
        "colab": {
          "base_uri": "https://localhost:8080/",
          "height": 34
        },
        "outputId": "254910a3-158a-4751-d94e-c390006f75dd"
      },
      "source": [
        "x.shape"
      ],
      "execution_count": 2,
      "outputs": [
        {
          "output_type": "execute_result",
          "data": {
            "text/plain": [
              "torch.Size([12])"
            ]
          },
          "metadata": {
            "tags": []
          },
          "execution_count": 2
        }
      ]
    },
    {
      "cell_type": "code",
      "metadata": {
        "id": "uhpMxXLhGKGy",
        "colab_type": "code",
        "colab": {
          "base_uri": "https://localhost:8080/",
          "height": 34
        },
        "outputId": "f5e5640b-1589-4fbc-9ff4-72641c013110"
      },
      "source": [
        "x.size()"
      ],
      "execution_count": 3,
      "outputs": [
        {
          "output_type": "execute_result",
          "data": {
            "text/plain": [
              "torch.Size([12])"
            ]
          },
          "metadata": {
            "tags": []
          },
          "execution_count": 3
        }
      ]
    },
    {
      "cell_type": "markdown",
      "metadata": {
        "id": "qui-SG2wHBk9",
        "colab_type": "text"
      },
      "source": [
        "The reshape function change the shape of the vector $x$ to a matrix of 3 rows and 4 columns."
      ]
    },
    {
      "cell_type": "code",
      "metadata": {
        "id": "LWId2uhGHIp7",
        "colab_type": "code",
        "colab": {
          "base_uri": "https://localhost:8080/",
          "height": 68
        },
        "outputId": "b141cbee-12ed-4642-b923-8b46da1d59e7"
      },
      "source": [
        "x = x.reshape((3, 4))\n",
        "print(x)"
      ],
      "execution_count": 4,
      "outputs": [
        {
          "output_type": "stream",
          "text": [
            "tensor([[ 0,  1,  2,  3],\n",
            "        [ 4,  5,  6,  7],\n",
            "        [ 8,  9, 10, 11]])\n"
          ],
          "name": "stdout"
        }
      ]
    },
    {
      "cell_type": "markdown",
      "metadata": {
        "id": "n1o5NbeJHZ-m",
        "colab_type": "text"
      },
      "source": [
        "Call *empty* to allocate some memory for a tensor filled with uninitialized data"
      ]
    },
    {
      "cell_type": "code",
      "metadata": {
        "id": "pXD1CAR3HjQi",
        "colab_type": "code",
        "colab": {
          "base_uri": "https://localhost:8080/",
          "height": 51
        },
        "outputId": "5d46e553-cc6a-4f78-9b70-b66e85b8ebe6"
      },
      "source": [
        "torch.empty(2, 3)"
      ],
      "execution_count": 5,
      "outputs": [
        {
          "output_type": "execute_result",
          "data": {
            "text/plain": [
              "tensor([[1.6620e-35, 0.0000e+00, 3.3631e-44],\n",
              "        [0.0000e+00,        nan, 0.0000e+00]])"
            ]
          },
          "metadata": {
            "tags": []
          },
          "execution_count": 5
        }
      ]
    },
    {
      "cell_type": "markdown",
      "metadata": {
        "id": "Jy-H9dUKHzMQ",
        "colab_type": "text"
      },
      "source": [
        "Usually, we initialize a tensor with all zeros. For example, an all zero matrix at size (2, 3, 4)"
      ]
    },
    {
      "cell_type": "code",
      "metadata": {
        "id": "cooUiwzXH4l4",
        "colab_type": "code",
        "colab": {
          "base_uri": "https://localhost:8080/",
          "height": 136
        },
        "outputId": "e536434b-7739-48f6-eade-9429f104a728"
      },
      "source": [
        "torch.zeros((2,3,4))"
      ],
      "execution_count": 6,
      "outputs": [
        {
          "output_type": "execute_result",
          "data": {
            "text/plain": [
              "tensor([[[0., 0., 0., 0.],\n",
              "         [0., 0., 0., 0.],\n",
              "         [0., 0., 0., 0.]],\n",
              "\n",
              "        [[0., 0., 0., 0.],\n",
              "         [0., 0., 0., 0.],\n",
              "         [0., 0., 0., 0.]]])"
            ]
          },
          "metadata": {
            "tags": []
          },
          "execution_count": 6
        }
      ]
    },
    {
      "cell_type": "markdown",
      "metadata": {
        "id": "xrLAUiQHH9op",
        "colab_type": "text"
      },
      "source": [
        "We can also intialize a tensor with all ones."
      ]
    },
    {
      "cell_type": "code",
      "metadata": {
        "id": "mOShbGBfIFGx",
        "colab_type": "code",
        "colab": {
          "base_uri": "https://localhost:8080/",
          "height": 136
        },
        "outputId": "30950b2e-d0a7-4892-93ad-9209b425d734"
      },
      "source": [
        "torch.ones((2,3,4))"
      ],
      "execution_count": 7,
      "outputs": [
        {
          "output_type": "execute_result",
          "data": {
            "text/plain": [
              "tensor([[[1., 1., 1., 1.],\n",
              "         [1., 1., 1., 1.],\n",
              "         [1., 1., 1., 1.]],\n",
              "\n",
              "        [[1., 1., 1., 1.],\n",
              "         [1., 1., 1., 1.],\n",
              "         [1., 1., 1., 1.]]])"
            ]
          },
          "metadata": {
            "tags": []
          },
          "execution_count": 7
        }
      ]
    },
    {
      "cell_type": "markdown",
      "metadata": {
        "id": "pDJ6CEeiIhPV",
        "colab_type": "text"
      },
      "source": [
        "We can also specify the value of each element to initialize a tensor (But it is rarely done bucause usually we may either have a quite large tensor to feed the model or we want it to be initialized with a certain distribution)."
      ]
    },
    {
      "cell_type": "code",
      "metadata": {
        "id": "W0ONf7rXJZFv",
        "colab_type": "code",
        "colab": {
          "base_uri": "https://localhost:8080/",
          "height": 68
        },
        "outputId": "e785cf17-2860-40b0-a77f-11f0fce4318b"
      },
      "source": [
        "y = torch.tensor([[2, 1, 4, 3], [1, 2, 3, 4], [4, 3, 2, 1]])\n",
        "print(y)"
      ],
      "execution_count": 8,
      "outputs": [
        {
          "output_type": "stream",
          "text": [
            "tensor([[2, 1, 4, 3],\n",
            "        [1, 2, 3, 4],\n",
            "        [4, 3, 2, 1]])\n"
          ],
          "name": "stdout"
        }
      ]
    },
    {
      "cell_type": "markdown",
      "metadata": {
        "id": "mFe6giL_Jj3V",
        "colab_type": "text"
      },
      "source": [
        "In some cases, we need to randomly generate the value of each element. This is especially common when we intend to use the array as a parameter in a neural network.\n",
        "\n",
        "The following code creates a tensor with the shape of (3,4), and each elements of it is randomly sampled in a normal distribution with zero mean and unit variance."
      ]
    },
    {
      "cell_type": "code",
      "metadata": {
        "id": "XixL4SDJKC1I",
        "colab_type": "code",
        "colab": {
          "base_uri": "https://localhost:8080/",
          "height": 68
        },
        "outputId": "c9ca55b1-7dd1-4b40-a9d5-510b86e1800a"
      },
      "source": [
        "torch.normal(mean=0.0, std=1.0, size=(3, 4))"
      ],
      "execution_count": 9,
      "outputs": [
        {
          "output_type": "execute_result",
          "data": {
            "text/plain": [
              "tensor([[ 0.1873, -0.3825,  1.8787, -0.4430],\n",
              "        [ 0.5780,  2.0361, -0.2708, -1.5990],\n",
              "        [-0.2644, -0.7748, -2.1668,  0.7127]])"
            ]
          },
          "metadata": {
            "tags": []
          },
          "execution_count": 9
        }
      ]
    },
    {
      "cell_type": "markdown",
      "metadata": {
        "id": "1d6-nO-rKrQF",
        "colab_type": "text"
      },
      "source": [
        "# **Operations**"
      ]
    },
    {
      "cell_type": "code",
      "metadata": {
        "id": "IOt685bLKvk1",
        "colab_type": "code",
        "colab": {
          "base_uri": "https://localhost:8080/",
          "height": 119
        },
        "outputId": "b70d7d35-2006-43ea-fc78-9e3daf05cf7b"
      },
      "source": [
        "x = torch.tensor([1, 2, 4, 8], dtype=torch.float32)\n",
        "y = torch.ones_like(x) * 2\n",
        "print('x = ', x)\n",
        "print('x + y = ', x + y)\n",
        "print('x - y = ', x - y)\n",
        "print('x * y = ', x * y)\n",
        "print('x / y = ', x / y)\n",
        "print('Element-wise exponentation: ', x.exp())"
      ],
      "execution_count": 10,
      "outputs": [
        {
          "output_type": "stream",
          "text": [
            "x =  tensor([1., 2., 4., 8.])\n",
            "x + y =  tensor([ 3.,  4.,  6., 10.])\n",
            "x - y =  tensor([-1.,  0.,  2.,  6.])\n",
            "x * y =  tensor([ 2.,  4.,  8., 16.])\n",
            "x / y =  tensor([0.5000, 1.0000, 2.0000, 4.0000])\n",
            "Element-wise exponentation:  tensor([2.7183e+00, 7.3891e+00, 5.4598e+01, 2.9810e+03])\n"
          ],
          "name": "stdout"
        }
      ]
    },
    {
      "cell_type": "markdown",
      "metadata": {
        "id": "lfU9pCibLI0d",
        "colab_type": "text"
      },
      "source": [
        "We can also concatenate tensors at the dimension we want. "
      ]
    },
    {
      "cell_type": "code",
      "metadata": {
        "id": "XAV6seAlLQd_",
        "colab_type": "code",
        "colab": {
          "base_uri": "https://localhost:8080/",
          "height": 170
        },
        "outputId": "b0d22fb8-fefc-4054-c47c-4acbdbdeb49c"
      },
      "source": [
        "x = torch.arange(12).reshape((3,4))\n",
        "y = torch.tensor([[2, 1, 4, 3], [1, 2, 3, 4], [4, 3, 2, 1]])\n",
        "print(torch.cat((x, y), dim=0))\n",
        "print(torch.cat((x, y), dim=1))"
      ],
      "execution_count": 11,
      "outputs": [
        {
          "output_type": "stream",
          "text": [
            "tensor([[ 0,  1,  2,  3],\n",
            "        [ 4,  5,  6,  7],\n",
            "        [ 8,  9, 10, 11],\n",
            "        [ 2,  1,  4,  3],\n",
            "        [ 1,  2,  3,  4],\n",
            "        [ 4,  3,  2,  1]])\n",
            "tensor([[ 0,  1,  2,  3,  2,  1,  4,  3],\n",
            "        [ 4,  5,  6,  7,  1,  2,  3,  4],\n",
            "        [ 8,  9, 10, 11,  4,  3,  2,  1]])\n"
          ],
          "name": "stdout"
        }
      ]
    },
    {
      "cell_type": "markdown",
      "metadata": {
        "id": "6Y0eLf-4LqY9",
        "colab_type": "text"
      },
      "source": [
        "Like in Numpy, we can construct binary tensors by a logical statement."
      ]
    },
    {
      "cell_type": "code",
      "metadata": {
        "id": "3YwF0uAuLuZs",
        "colab_type": "code",
        "colab": {
          "base_uri": "https://localhost:8080/",
          "height": 68
        },
        "outputId": "e8b3a02a-4f22-4e9a-f059-5070802dfd92"
      },
      "source": [
        "x == y"
      ],
      "execution_count": 12,
      "outputs": [
        {
          "output_type": "execute_result",
          "data": {
            "text/plain": [
              "tensor([[False,  True, False,  True],\n",
              "        [False, False, False, False],\n",
              "        [False, False, False, False]])"
            ]
          },
          "metadata": {
            "tags": []
          },
          "execution_count": 12
        }
      ]
    },
    {
      "cell_type": "markdown",
      "metadata": {
        "id": "tw4sY_7nMQN9",
        "colab_type": "text"
      },
      "source": [
        "Personally, I don't like broadcast mechanism. I'd rather use *torch.repeat* to modify the tensor to desired shape and then add two tensors."
      ]
    },
    {
      "cell_type": "code",
      "metadata": {
        "id": "d92pCHb0Mxa1",
        "colab_type": "code",
        "colab": {
          "base_uri": "https://localhost:8080/",
          "height": 136
        },
        "outputId": "cccf320f-1b3c-4ee8-e646-4ba496cb0560"
      },
      "source": [
        "a = torch.arange(3, dtype=torch.float32).reshape((3, 1))\n",
        "b = torch.arange(2, dtype=torch.float32).reshape((1, 2))\n",
        "\n",
        "print('a, b: ', a, b)\n",
        "\n",
        "print('Boardcast mechanism of a+b shoule be equvalent to: \\n', a.repeat(1, 2) + b.repeat(3,1))"
      ],
      "execution_count": 13,
      "outputs": [
        {
          "output_type": "stream",
          "text": [
            "a, b:  tensor([[0.],\n",
            "        [1.],\n",
            "        [2.]]) tensor([[0., 1.]])\n",
            "Boardcast mechanism of a+b shoule be equvalent to: \n",
            " tensor([[0., 1.],\n",
            "        [1., 2.],\n",
            "        [2., 3.]])\n"
          ],
          "name": "stdout"
        }
      ]
    },
    {
      "cell_type": "markdown",
      "metadata": {
        "id": "q1UyUNLFNbcc",
        "colab_type": "text"
      },
      "source": [
        "# **Indexing and Slicing**\n",
        "\n",
        "Indexing and Slicing in Pytorch tensors are the same as what we do in Python."
      ]
    },
    {
      "cell_type": "markdown",
      "metadata": {
        "id": "jhqCWifZNyRh",
        "colab_type": "text"
      },
      "source": [
        "# **Transformation between Pytorch tensors and Numpy array**\n",
        "\n",
        "Note that according to PyTorch document, **UNLIKE** MxNet, the torch Tensor and numpy array will **SHARE** their underlying memory locations, and changing one will change the other."
      ]
    },
    {
      "cell_type": "code",
      "metadata": {
        "id": "HFND3bvbN7L3",
        "colab_type": "code",
        "colab": {
          "base_uri": "https://localhost:8080/",
          "height": 717
        },
        "outputId": "3b080d00-71e9-45e5-ac56-ed31a01700df"
      },
      "source": [
        "import numpy as np\n",
        "\n",
        "a = x.numpy()\n",
        "print(type(a))\n",
        "b = torch.tensor(a)\n",
        "print(type(b))\n",
        "\n",
        "t = torch.ones((3, 2))\n",
        "n = t.numpy()\n",
        "print(\"Before change tensor value: {} \\n {}.\".format(t, n))\n",
        "\n",
        "t[0,0] = 100\n",
        "\n",
        "print(\"After change tensor value: {} \\n {}.\\n\\n\".format(t, n))\n",
        "\n",
        "!pip install mxnet\n",
        "import mxnet as mx\n",
        "from mxnet import nd\n",
        "mx_nd = nd.ones((3,2))\n",
        "mx_n = mx_nd.asnumpy()\n",
        "\n",
        "print(\"Before change NDArray value: {} \\n {}.\".format(mx_nd, mx_n))\n",
        "\n",
        "mx_nd[0,0] = 100\n",
        "\n",
        "print(\"After change NDArray value: {} \\n {}.\".format(mx_nd, mx_n))"
      ],
      "execution_count": 14,
      "outputs": [
        {
          "output_type": "stream",
          "text": [
            "<class 'numpy.ndarray'>\n",
            "<class 'torch.Tensor'>\n",
            "Before change tensor value: tensor([[1., 1.],\n",
            "        [1., 1.],\n",
            "        [1., 1.]]) \n",
            " [[1. 1.]\n",
            " [1. 1.]\n",
            " [1. 1.]].\n",
            "After change tensor value: tensor([[100.,   1.],\n",
            "        [  1.,   1.],\n",
            "        [  1.,   1.]]) \n",
            " [[100.   1.]\n",
            " [  1.   1.]\n",
            " [  1.   1.]].\n",
            "\n",
            "\n",
            "Requirement already satisfied: mxnet in /usr/local/lib/python3.6/dist-packages (1.7.0.post1)\n",
            "Requirement already satisfied: requests<3,>=2.20.0 in /usr/local/lib/python3.6/dist-packages (from mxnet) (2.23.0)\n",
            "Requirement already satisfied: graphviz<0.9.0,>=0.8.1 in /usr/local/lib/python3.6/dist-packages (from mxnet) (0.8.4)\n",
            "Requirement already satisfied: numpy<2.0.0,>1.16.0 in /usr/local/lib/python3.6/dist-packages (from mxnet) (1.18.5)\n",
            "Requirement already satisfied: chardet<4,>=3.0.2 in /usr/local/lib/python3.6/dist-packages (from requests<3,>=2.20.0->mxnet) (3.0.4)\n",
            "Requirement already satisfied: idna<3,>=2.5 in /usr/local/lib/python3.6/dist-packages (from requests<3,>=2.20.0->mxnet) (2.10)\n",
            "Requirement already satisfied: certifi>=2017.4.17 in /usr/local/lib/python3.6/dist-packages (from requests<3,>=2.20.0->mxnet) (2020.6.20)\n",
            "Requirement already satisfied: urllib3!=1.25.0,!=1.25.1,<1.26,>=1.21.1 in /usr/local/lib/python3.6/dist-packages (from requests<3,>=2.20.0->mxnet) (1.24.3)\n",
            "Before change NDArray value: \n",
            "[[1. 1.]\n",
            " [1. 1.]\n",
            " [1. 1.]]\n",
            "<NDArray 3x2 @cpu(0)> \n",
            " [[1. 1.]\n",
            " [1. 1.]\n",
            " [1. 1.]].\n",
            "After change NDArray value: \n",
            "[[100.   1.]\n",
            " [  1.   1.]\n",
            " [  1.   1.]]\n",
            "<NDArray 3x2 @cpu(0)> \n",
            " [[1. 1.]\n",
            " [1. 1.]\n",
            " [1. 1.]].\n"
          ],
          "name": "stdout"
        }
      ]
    }
  ]
}
